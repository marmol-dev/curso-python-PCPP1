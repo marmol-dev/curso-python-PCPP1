{
 "cells": [
  {
   "cell_type": "code",
   "execution_count": 3,
   "metadata": {},
   "outputs": [
    {
     "name": "stdout",
     "output_type": "stream",
     "text": [
      "Instanciando\n",
      "Invocando a un método\n"
     ]
    }
   ],
   "source": [
    "def decorador_clasee(clase):\n",
    "    def inner_wrapper(*args, **kwargs):\n",
    "        return clase(*args, **kwargs)\n",
    "    return inner_wrapper \n",
    "\n",
    "def decorador_metodo(metodo):\n",
    "    def inner_wrapper(*args, **kwargs):\n",
    "        return metodo(*args, **kwargs)\n",
    "    return inner_wrapper\n",
    "\n",
    "class Clase:\n",
    "    @decorador_metodo\n",
    "    def metodo(self, argumento):\n",
    "        pass\n",
    "\n",
    "\n",
    "print(\"Instanciando\")\n",
    "instancia = Clase()\n",
    "print(\"Invocando a un método\")\n",
    "instancia.metodo(\"hola mundo\")"
   ]
  },
  {
   "cell_type": "markdown",
   "metadata": {},
   "source": [
    "## Types"
   ]
  },
  {
   "cell_type": "code",
   "execution_count": 4,
   "metadata": {},
   "outputs": [
    {
     "name": "stdout",
     "output_type": "stream",
     "text": [
      "<class 'int'>\n",
      "<class 'type'>\n"
     ]
    }
   ],
   "source": [
    "print(type(3))\n",
    "print(type(int))"
   ]
  },
  {
   "cell_type": "code",
   "execution_count": 5,
   "metadata": {},
   "outputs": [
    {
     "name": "stdout",
     "output_type": "stream",
     "text": [
      "<class '__main__.Clase'>\n",
      "<class 'type'>\n"
     ]
    }
   ],
   "source": [
    "print(type(instancia))\n",
    "print(type(Clase))"
   ]
  },
  {
   "cell_type": "markdown",
   "metadata": {},
   "source": [
    "## Atributos especialies"
   ]
  },
  {
   "cell_type": "markdown",
   "metadata": {},
   "source": [
    "### Class y Name"
   ]
  },
  {
   "cell_type": "code",
   "execution_count": 8,
   "metadata": {},
   "outputs": [
    {
     "name": "stdout",
     "output_type": "stream",
     "text": [
      "<class '__main__.Clase'>\n",
      "Clase\n",
      "<class 'type'>\n"
     ]
    }
   ],
   "source": [
    "print(instancia.__class__)\n",
    "print(Clase.__name__)\n",
    "print(Clase.__class__)"
   ]
  },
  {
   "cell_type": "code",
   "execution_count": 9,
   "metadata": {},
   "outputs": [
    {
     "ename": "AttributeError",
     "evalue": "'Clase' object has no attribute '__name__'",
     "output_type": "error",
     "traceback": [
      "\u001b[31m---------------------------------------------------------------------------\u001b[39m",
      "\u001b[31mAttributeError\u001b[39m                            Traceback (most recent call last)",
      "\u001b[36mCell\u001b[39m\u001b[36m \u001b[39m\u001b[32mIn[9]\u001b[39m\u001b[32m, line 1\u001b[39m\n\u001b[32m----> \u001b[39m\u001b[32m1\u001b[39m \u001b[38;5;28mprint\u001b[39m(\u001b[43minstancia\u001b[49m\u001b[43m.\u001b[49m\u001b[34;43m__name__\u001b[39;49m)\n",
      "\u001b[31mAttributeError\u001b[39m: 'Clase' object has no attribute '__name__'"
     ]
    }
   ],
   "source": [
    "print(instancia.__name__)"
   ]
  },
  {
   "cell_type": "markdown",
   "metadata": {},
   "source": [
    "### Bases"
   ]
  },
  {
   "cell_type": "code",
   "execution_count": 16,
   "metadata": {},
   "outputs": [
    {
     "name": "stdout",
     "output_type": "stream",
     "text": [
      "<class '__main__.Animal'>\n",
      "(<class '__main__.Animal'>,)\n",
      "<class 'object'>\n",
      "(<class 'object'>,)\n"
     ]
    }
   ],
   "source": [
    "class Animal:\n",
    "    pass\n",
    "\n",
    "class Dog(Animal):\n",
    "    \"\"\"\n",
    "    This is the dog class\n",
    "    \"\"\"\n",
    "    pass\n",
    "\n",
    "my_dog = Dog()\n",
    "\n",
    "print(Dog.__base__)\n",
    "print(Dog.__bases__)\n",
    "print(Animal.__base__)\n",
    "print(Animal.__bases__)"
   ]
  },
  {
   "cell_type": "markdown",
   "metadata": {},
   "source": [
    "### Dict"
   ]
  },
  {
   "cell_type": "code",
   "execution_count": 17,
   "metadata": {},
   "outputs": [
    {
     "name": "stdout",
     "output_type": "stream",
     "text": [
      "{'__module__': '__main__', '__firstlineno__': 4, '__doc__': '\\nThis is the dog class\\n', '__static_attributes__': ()}\n",
      "{}\n"
     ]
    }
   ],
   "source": [
    "print(Dog.__dict__)\n",
    "print(my_dog.__dict__)"
   ]
  },
  {
   "cell_type": "markdown",
   "metadata": {},
   "source": [
    "### Crear clases"
   ]
  },
  {
   "cell_type": "code",
   "execution_count": 25,
   "metadata": {},
   "outputs": [
    {
     "name": "stdout",
     "output_type": "stream",
     "text": [
      "<class '__main__.MyClass'>\n",
      "<class '__main__.MyClass'>\n",
      "My method\n",
      "My method 2\n"
     ]
    }
   ],
   "source": [
    "def my_method(self):\n",
    "    print(\"My method\")\n",
    "\n",
    "def my_method_2(self):\n",
    "    print(\"My method 2\")\n",
    "\n",
    "MyClass = type(\n",
    "    'MyClass', # __name__\n",
    "    (object,), # __bases__\n",
    "    {'my_method': my_method } ## __dict__\n",
    ")\n",
    "\n",
    "MyClass2 = type(\n",
    "    'MyClass', \n",
    "    (object,), \n",
    "    {'my_method_2': my_method_2 }\n",
    ")\n",
    "\n",
    "print(MyClass)\n",
    "print(MyClass2)\n",
    "\n",
    "instance1 = MyClass()\n",
    "instance1.my_method()\n",
    "\n",
    "instance2 = MyClass2()\n",
    "instance2.my_method_2()"
   ]
  },
  {
   "cell_type": "markdown",
   "metadata": {},
   "source": [
    "## Ejercicio \n",
    "\n",
    "Crear una clase Videojuego que tenga constructor cin título y plataforma y el método mostrar datos.\n",
    "    "
   ]
  },
  {
   "cell_type": "code",
   "execution_count": 26,
   "metadata": {},
   "outputs": [
    {
     "name": "stdout",
     "output_type": "stream",
     "text": [
      "Titulo=GTA V, Plataforma=PS4\n",
      "Titulo=Minecraft, Plataforma=PC\n"
     ]
    }
   ],
   "source": [
    "def videojuego_init(self, titulo: str, plataforma: str):\n",
    "    self.__titulo = titulo\n",
    "    self.__plataforma = plataforma\n",
    "\n",
    "def videojuego_mostrar_datos(self):\n",
    "    print(f\"Titulo={self.__titulo}, Plataforma={self.__plataforma}\")\n",
    "\n",
    "Videojuego = type('Videojuego', (object,), {'__init__': videojuego_init, 'mostrar_datos': videojuego_mostrar_datos})\n",
    "\n",
    "gta_v_ps4 = Videojuego('GTA V', 'PS4')\n",
    "gta_v_ps4.mostrar_datos()\n",
    "minecraft_pc = Videojuego('Minecraft', 'PC')\n",
    "minecraft_pc.mostrar_datos()"
   ]
  },
  {
   "cell_type": "markdown",
   "metadata": {},
   "source": [
    "## Ejercicio getters/setters atributos"
   ]
  },
  {
   "cell_type": "markdown",
   "metadata": {},
   "source": [
    "Crear una función que dada una clase y unos atributos devuelva una clase derivada con métodos getters y setters para los atributos dados."
   ]
  },
  {
   "cell_type": "code",
   "execution_count": 46,
   "metadata": {},
   "outputs": [],
   "source": [
    "def crear_metodo_getter(private_attr_name: str):\n",
    "    def getter(self):\n",
    "        return getattr(self, private_attr_name)\n",
    "    return getter\n",
    "\n",
    "def crear_metodo_setter(private_attr_name: str):\n",
    "    def setter(self, val):\n",
    "        return setattr(self, private_attr_name, val)\n",
    "    return setter\n",
    "\n",
    "def crear_clase_getters_setters(cls: type, attrs_map: dict):\n",
    "    new_class_dict = {}\n",
    "    for sufix, private_attr_name in attrs_map.items():\n",
    "        new_class_dict[f\"get_{sufix}\"] = crear_metodo_getter(private_attr_name)\n",
    "        new_class_dict[f\"set_{sufix}\"] = crear_metodo_setter(private_attr_name)\n",
    "\n",
    "    return type(cls.__name__, (cls,), new_class_dict)\n",
    "\n"
   ]
  },
  {
   "cell_type": "code",
   "execution_count": 47,
   "metadata": {},
   "outputs": [
    {
     "name": "stdout",
     "output_type": "stream",
     "text": [
      "{'_Videojuego__titulo': 'GTA V', '_Videojuego__plataforma': 'PC'}\n"
     ]
    },
    {
     "data": {
      "text/plain": [
       "'GTA V'"
      ]
     },
     "execution_count": 47,
     "metadata": {},
     "output_type": "execute_result"
    }
   ],
   "source": [
    "class Videojuego():\n",
    "    def __init__(self, titulo: str, plataforma: str):\n",
    "        self.__titulo = titulo\n",
    "        self.__plataforma = plataforma\n",
    "\n",
    "VideojuegoGettersSetters = crear_clase_getters_setters(Videojuego, {\"titulo\": \"_Videojuego__titulo\", \"plataforma\": \"_Videojuego__plataforma\"})\n",
    "\n",
    "gtav = VideojuegoGettersSetters('GTA V', 'PC')\n",
    "print(gtav.__dict__)\n",
    "gtav.get_titulo()"
   ]
  },
  {
   "cell_type": "code",
   "execution_count": 48,
   "metadata": {},
   "outputs": [],
   "source": [
    "def decorar_getters_setters(attrs_map: dict):\n",
    "    def wrapper_class(cls):\n",
    "        return crear_clase_getters_setters(cls, attrs_map)\n",
    "    return wrapper_class"
   ]
  },
  {
   "cell_type": "code",
   "execution_count": 52,
   "metadata": {},
   "outputs": [
    {
     "name": "stdout",
     "output_type": "stream",
     "text": [
      "Minecraft\n",
      "PC\n",
      "PS5\n"
     ]
    }
   ],
   "source": [
    "@decorar_getters_setters({\"titulo\": \"_Videojuego__titulo\", \"plataforma\": \"_Videojuego__plataforma\"})\n",
    "class Videojuego():\n",
    "    def __init__(self, titulo: str, plataforma: str):\n",
    "        self.__titulo = titulo\n",
    "        self.__plataforma = plataforma\n",
    "\n",
    "minecraft_pc = Videojuego(\"Minecraft\", \"PC\")\n",
    "print(minecraft_pc.get_titulo())\n",
    "print(minecraft_pc.get_plataforma())\n",
    "minecraft_pc.set_plataforma('PS5')\n",
    "print(minecraft_pc.get_plataforma())\n"
   ]
  },
  {
   "cell_type": "code",
   "execution_count": null,
   "metadata": {},
   "outputs": [],
   "source": []
  }
 ],
 "metadata": {
  "kernelspec": {
   "display_name": "venv",
   "language": "python",
   "name": "python3"
  },
  "language_info": {
   "codemirror_mode": {
    "name": "ipython",
    "version": 3
   },
   "file_extension": ".py",
   "mimetype": "text/x-python",
   "name": "python",
   "nbconvert_exporter": "python",
   "pygments_lexer": "ipython3",
   "version": "3.13.2"
  }
 },
 "nbformat": 4,
 "nbformat_minor": 2
}
