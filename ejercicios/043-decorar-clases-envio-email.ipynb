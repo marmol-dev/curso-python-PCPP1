{
 "cells": [
  {
   "cell_type": "code",
   "execution_count": 9,
   "metadata": {},
   "outputs": [
    {
     "name": "stdout",
     "output_type": "stream",
     "text": [
      "Decorando clase  Ejemplo\n",
      "Enviando info:  {\"_numero\": 1, \"_importe\": 123}\n"
     ]
    }
   ],
   "source": [
    "from json import dumps\n",
    "def enviador_info(cls: type):\n",
    "    print(\"Decorando clase \", cls.__name__)\n",
    "\n",
    "    def enviar_info(self):\n",
    "        print(\"Enviando info: \" , dumps(self.__dict__))\n",
    "\n",
    "    cls.enviar_info = enviar_info\n",
    "    \n",
    "    return cls\n",
    "\n",
    "@enviador_info\n",
    "class Ejemplo:\n",
    "    def __init__(self, numero, importe):\n",
    "        self._numero = numero\n",
    "        self._importe = importe\n",
    "\n",
    "ejemplo = Ejemplo(1, 123)\n",
    "ejemplo.enviar_info()"
   ]
  },
  {
   "cell_type": "code",
   "execution_count": null,
   "metadata": {},
   "outputs": [],
   "source": []
  }
 ],
 "metadata": {
  "kernelspec": {
   "display_name": "venv",
   "language": "python",
   "name": "python3"
  },
  "language_info": {
   "codemirror_mode": {
    "name": "ipython",
    "version": 3
   },
   "file_extension": ".py",
   "mimetype": "text/x-python",
   "name": "python",
   "nbconvert_exporter": "python",
   "pygments_lexer": "ipython3",
   "version": "3.13.2"
  }
 },
 "nbformat": 4,
 "nbformat_minor": 2
}
