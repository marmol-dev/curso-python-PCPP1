{
 "cells": [
  {
   "cell_type": "markdown",
   "metadata": {},
   "source": [
    "# Ejercicio 069"
   ]
  },
  {
   "cell_type": "markdown",
   "metadata": {
    "vscode": {
     "languageId": "plaintext"
    }
   },
   "source": [
    "Crear un metaclase Comunicador\n",
    "\n",
    "Las clases que se creen como consecuencia de Comunicador\n",
    "deberán implementar los métodos:\n",
    "\n",
    "- enviar_email\n",
    "- enviar_sms\n",
    "- enviar_whatsapp\n",
    "\n",
    "Además, añadir un método que se llame enviar_global\n",
    "que envíe a través de todos los métodos anteriores"
   ]
  },
  {
   "cell_type": "code",
   "execution_count": null,
   "metadata": {},
   "outputs": [
    {
     "name": "stdout",
     "output_type": "stream",
     "text": [
      "Enviando email\n",
      "Enviando sms\n",
      "Enviando enviar_whatsapp\n"
     ]
    }
   ],
   "source": [
    "class Comunicador(type):\n",
    "    def __new__(msc, name, bases, dictionary):\n",
    "        cls = super().__new__(msc, name, bases, dictionary)\n",
    "\n",
    "        if not hasattr(cls, 'enviar_email') and callable(cls.enviar_email):\n",
    "            raise AttributeError('Clase no tiene enviar_email')\n",
    "\n",
    "        if not hasattr(cls, 'enviar_sms') and callable(cls.enviar_sms):\n",
    "            raise AttributeError('Clase no tiene enviar_sms')\n",
    "\n",
    "        if not hasattr(cls, 'enviar_whatsapp') and callable(cls.enviar_whatsapp):\n",
    "            raise AttributeError('Clase no tiene enviar_whatsapp')\n",
    "\n",
    "        cls.enviar_global = msc.enviar_global\n",
    "\n",
    "        return cls\n",
    "        \n",
    "    def enviar_global(self):\n",
    "        self.enviar_email()\n",
    "        self.enviar_sms()\n",
    "        self.enviar_whatsapp()\n",
    "\n",
    "\n",
    "class Factura(metaclass = Comunicador):\n",
    "    def enviar_email(self):\n",
    "        print(\"Enviando email\")\n",
    "\n",
    "    def enviar_sms(self):\n",
    "        print(\"Enviando sms\")\n",
    "\n",
    "    def enviar_whatsapp(self):\n",
    "        print(\"Enviando enviar_whatsapp\")\n",
    "\n",
    "factura = Factura()\n",
    "factura.enviar_global()"
   ]
  },
  {
   "cell_type": "code",
   "execution_count": null,
   "metadata": {},
   "outputs": [],
   "source": []
  }
 ],
 "metadata": {
  "kernelspec": {
   "display_name": "venv",
   "language": "python",
   "name": "python3"
  },
  "language_info": {
   "codemirror_mode": {
    "name": "ipython",
    "version": 3
   },
   "file_extension": ".py",
   "mimetype": "text/x-python",
   "name": "python",
   "nbconvert_exporter": "python",
   "pygments_lexer": "ipython3",
   "version": "3.13.2"
  }
 },
 "nbformat": 4,
 "nbformat_minor": 2
}
