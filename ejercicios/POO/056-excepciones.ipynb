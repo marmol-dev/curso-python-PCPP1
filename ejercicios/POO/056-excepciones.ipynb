{
 "cells": [
  {
   "cell_type": "markdown",
   "metadata": {},
   "source": [
    "# Ejercicio 056"
   ]
  },
  {
   "cell_type": "markdown",
   "metadata": {},
   "source": [
    "Gestión de excepciones con herencia Excepciones personalizadas."
   ]
  },
  {
   "cell_type": "code",
   "execution_count": null,
   "metadata": {},
   "outputs": [],
   "source": [
    "class DatosPedidoError(RuntimeError):\n",
    "    def __init__(self, field, *args):\n",
    "        super().__init__(*args)\n",
    "        self.field = field\n",
    "\n",
    "class Pedido():\n",
    "    def __init__(self, n_pedido: int, importe: float):\n",
    "        if n_pedido < 0:\n",
    "            raise DatosPedidoError('_pedido', 'n_pedido incorrecto')\n",
    "\n",
    "    "
   ]
  },
  {
   "cell_type": "code",
   "execution_count": 6,
   "metadata": {},
   "outputs": [
    {
     "name": "stdout",
     "output_type": "stream",
     "text": [
      "Datos pedido con error en el campo _pedido: n_pedido incorrecto\n"
     ]
    }
   ],
   "source": [
    "try:\n",
    "    pedido = Pedido(-1, 150)\n",
    "except DatosPedidoError as dpe:\n",
    "    print(f\"Datos pedido con error en el campo {dpe.field}:\", dpe)\n",
    "except Exception as e:\n",
    "    print(\"Excepción desconocida\", e)"
   ]
  },
  {
   "cell_type": "markdown",
   "metadata": {},
   "source": [
    "## Conclusiones:\n",
    "- Las excepciones personalizadas son útiles para manejar errores específicos guardando atributos personalizados.\n",
    "- Las excepciones personalizadas pueden heredar de las excepciones incorporadas de Python.\n",
    "- Las excepciones personalizadas pueden ser utilizadas en bloques `try` y `except` para manejar errores específicos.\n",
    "- Las excepciones se gestionan de manera jerárquica, por lo que las excepciones más específicas deben manejarse antes que las excepciones más generales.\n"
   ]
  },
  {
   "cell_type": "code",
   "execution_count": null,
   "metadata": {},
   "outputs": [],
   "source": []
  }
 ],
 "metadata": {
  "kernelspec": {
   "display_name": "venv",
   "language": "python",
   "name": "python3"
  },
  "language_info": {
   "codemirror_mode": {
    "name": "ipython",
    "version": 3
   },
   "file_extension": ".py",
   "mimetype": "text/x-python",
   "name": "python",
   "nbconvert_exporter": "python",
   "pygments_lexer": "ipython3",
   "version": "3.13.2"
  }
 },
 "nbformat": 4,
 "nbformat_minor": 2
}
