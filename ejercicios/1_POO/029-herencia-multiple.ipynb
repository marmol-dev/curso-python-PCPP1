{
 "cells": [
  {
   "cell_type": "code",
   "execution_count": 1,
   "metadata": {},
   "outputs": [],
   "source": [
    "# crear una función similar a del ejercicio 22 de composición\n",
    "# pero con funciones"
   ]
  },
  {
   "cell_type": "markdown",
   "metadata": {},
   "source": [
    "```mermaid\n",
    "graph TD\n",
    "    D[\"Clase D: Before D -> super().__init__()\"] --> B[\"Clase B: Before B -> super().__init__()\"]\n",
    "    B --> C[\"Clase C: Before C -> super().__init__()\"]\n",
    "    C --> A[\"Clase A: A From D\"]\n",
    "    A --> C_after[\"Clase C: After C\"]\n",
    "    C_after --> B_after[\"Clase B: After B\"]\n",
    "    B_after --> D_after[\"Clase D: After D\"]\n",
    "\n",
    "    subgraph Asignaciones de self.prop\n",
    "        A -->|self.prop = 'A'| C\n",
    "        C -->|self.prop = 'C'| B\n",
    "        B -->|self.prop = 'B'| D\n",
    "    end\n",
    "```"
   ]
  },
  {
   "cell_type": "code",
   "execution_count": null,
   "metadata": {},
   "outputs": [],
   "source": [
    "class A:\n",
    "    def __init__(self, msg = 'From A'):\n",
    "        print(f\"A {msg}\")\n",
    "\n",
    "class B(A):\n",
    "    def __init__(self, msg = 'From B'):\n",
    "        print(f\"B {msg}\")\n",
    "        super().__init__(msg)\n",
    "\n",
    "class C(A):\n",
    "    def __init__(self, msg = 'From C'):\n",
    "        print(f\"C {msg}\")\n",
    "        super().__init__(msg)\n",
    "\n",
    "class D(B,C):\n",
    "    def __init__(self, msg = 'From D'):\n",
    "        print(f\"D {msg}\")\n",
    "        super().__init__(msg)\n",
    "\n",
    "d = D()\n"
   ]
  },
  {
   "cell_type": "code",
   "execution_count": 39,
   "metadata": {},
   "outputs": [
    {
     "name": "stdout",
     "output_type": "stream",
     "text": [
      "Before D From D\n",
      "Before B From D\n",
      "Before C From D\n",
      "A From D\n",
      "After C From D\n",
      "After B From D\n",
      "After D From D\n"
     ]
    }
   ],
   "source": [
    "class A:\n",
    "    def __init__(self, msg = 'From A'):\n",
    "        print(f\"A {msg}\")\n",
    "        self.prop = 'A'\n",
    "\n",
    "class B(A):\n",
    "    def __init__(self, msg = 'From B'):\n",
    "        print(f\"Before B {msg}\")\n",
    "        super().__init__(msg)\n",
    "        print(f\"After B {msg}\")\n",
    "        self.prop = 'B'\n",
    "\n",
    "\n",
    "class C(A):\n",
    "    def __init__(self, msg = 'From C'):\n",
    "        print(f\"Before C {msg}\")\n",
    "        super().__init__(msg)\n",
    "        print(f\"After C {msg}\")\n",
    "        self.prop = 'C'\n",
    "\n",
    "\n",
    "class D(B,C):\n",
    "    def __init__(self, msg = 'From D'):\n",
    "        print(f\"Before D {msg}\")\n",
    "        super().__init__(msg)\n",
    "        print(f\"After D {msg}\")\n",
    "        #self.prop = 'D'\n",
    "\n",
    "\n",
    "d = D()\n"
   ]
  },
  {
   "cell_type": "code",
   "execution_count": 4,
   "metadata": {},
   "outputs": [
    {
     "name": "stdout",
     "output_type": "stream",
     "text": [
      "Before __init__ de Batmovil\n",
      "Before __init__ de Automovil\n",
      "Before __init__ de Avion\n",
      "__init__ de Vehiculo\n",
      "After __init__ de Avion\n",
      "After __init__ de Automovil\n",
      "After __init__ de Batmovil\n",
      "Soy Batmovil y estoy atacando como automóvil...\n",
      "Soy Batmovil y estoy atacando como avión...\n"
     ]
    }
   ],
   "source": [
    "class Vehiculo:\n",
    "    def __init__(self, nombre, **kwargs):\n",
    "        print('__init__ de Vehiculo')\n",
    "        self.nombre = nombre\n",
    "\n",
    "class Automovil(Vehiculo):\n",
    "    def __init__(self, nombre, velocidad, **kwargs):\n",
    "        print('Before __init__ de Automovil')\n",
    "        super().__init__(nombre, **kwargs)\n",
    "        print('After __init__ de Automovil')\n",
    "        self.velocidad = velocidad\n",
    "\n",
    "    def atacar(self):\n",
    "        print(f'Soy {self.nombre} y estoy atacando como automóvil...')\n",
    "\n",
    "class Avion(Vehiculo):\n",
    "    def __init__(self, nombre, altitud, **kwargs):\n",
    "        print('Before __init__ de Avion')\n",
    "        super().__init__(nombre, **kwargs)\n",
    "        print('After __init__ de Avion')\n",
    "        self.altitud = altitud\n",
    "\n",
    "    def atacar(self):\n",
    "        print(f'Soy {self.nombre} y estoy atacando como avión...')\n",
    "\n",
    "class Batmovil(Automovil, Avion):\n",
    "    def __init__(self, nombre, velocidad, altitud):\n",
    "        print('Before __init__ de Batmovil')\n",
    "        super().__init__(nombre, velocidad=velocidad, altitud=altitud)\n",
    "        print('After __init__ de Batmovil')\n",
    "\n",
    "    def atacar(self):\n",
    "        Automovil.atacar(self)\n",
    "        Avion.atacar(self)\n",
    "\n",
    "batmovil = Batmovil('Batmovil', 300, 5000)\n",
    "batmovil.atacar()"
   ]
  },
  {
   "cell_type": "code",
   "execution_count": 13,
   "metadata": {},
   "outputs": [
    {
     "ename": "TypeError",
     "evalue": "ClaseDecoradora() takes 0 positional arguments but 1 was given",
     "output_type": "error",
     "traceback": [
      "\u001b[31m---------------------------------------------------------------------------\u001b[39m",
      "\u001b[31mTypeError\u001b[39m                                 Traceback (most recent call last)",
      "\u001b[36mCell\u001b[39m\u001b[36m \u001b[39m\u001b[32mIn[13]\u001b[39m\u001b[32m, line 11\u001b[39m\n\u001b[32m      8\u001b[39m     \u001b[38;5;28;01mdef\u001b[39;00m\u001b[38;5;250m \u001b[39m\u001b[34m__call__\u001b[39m(\u001b[38;5;28mself\u001b[39m, *args, **kwargs):\n\u001b[32m      9\u001b[39m         \u001b[38;5;28;01mreturn\u001b[39;00m \u001b[38;5;28mself\u001b[39m._fn(*args, **kwargs)\n\u001b[32m---> \u001b[39m\u001b[32m11\u001b[39m \u001b[38;5;129;43m@ClaseDecoradora\u001b[39;49m\n\u001b[32m     12\u001b[39m \u001b[38;5;28;43;01mdef\u001b[39;49;00m\u001b[38;5;250;43m \u001b[39;49m\u001b[34;43msaludar\u001b[39;49m\u001b[43m(\u001b[49m\u001b[43m)\u001b[49m\u001b[43m:\u001b[49m\n\u001b[32m     13\u001b[39m \u001b[43m    \u001b[49m\u001b[38;5;28;43mprint\u001b[39;49m\u001b[43m(\u001b[49m\u001b[33;43m\"\u001b[39;49m\u001b[33;43mHola\u001b[39;49m\u001b[33;43m\"\u001b[39;49m\u001b[43m)\u001b[49m\n\u001b[32m     16\u001b[39m saludar()\n",
      "\u001b[31mTypeError\u001b[39m: ClaseDecoradora() takes 0 positional arguments but 1 was given"
     ]
    }
   ],
   "source": [
    "from typing import Callable\n",
    "\n",
    "def ClaseDecoradora():\n",
    "    def __init__(self, fn: Callable):\n",
    "        print(\"Me llaman\")\n",
    "        self._fn = fn\n",
    "    \n",
    "    def __call__(self, *args, **kwargs):\n",
    "        return self._fn(*args, **kwargs)\n",
    "\n",
    "@ClaseDecoradora\n",
    "def saludar():\n",
    "    print(\"Hola\")\n",
    "\n",
    "\n",
    "saludar()"
   ]
  },
  {
   "cell_type": "code",
   "execution_count": null,
   "metadata": {},
   "outputs": [],
   "source": []
  },
  {
   "cell_type": "code",
   "execution_count": null,
   "metadata": {},
   "outputs": [],
   "source": []
  }
 ],
 "metadata": {
  "kernelspec": {
   "display_name": "venv",
   "language": "python",
   "name": "python3"
  },
  "language_info": {
   "codemirror_mode": {
    "name": "ipython",
    "version": 3
   },
   "file_extension": ".py",
   "mimetype": "text/x-python",
   "name": "python",
   "nbconvert_exporter": "python",
   "pygments_lexer": "ipython3",
   "version": "3.13.2"
  }
 },
 "nbformat": 4,
 "nbformat_minor": 2
}
