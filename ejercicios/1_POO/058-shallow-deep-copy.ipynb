{
 "cells": [
  {
   "cell_type": "markdown",
   "metadata": {},
   "source": [
    "# Ejercicio 058"
   ]
  },
  {
   "cell_type": "markdown",
   "metadata": {},
   "source": [
    "Copia de referencia, copia superficial (shallow) y copia profunda (deep)."
   ]
  },
  {
   "cell_type": "markdown",
   "metadata": {},
   "source": [
    "## Copia de referencia"
   ]
  },
  {
   "cell_type": "code",
   "execution_count": 2,
   "metadata": {},
   "outputs": [
    {
     "name": "stdout",
     "output_type": "stream",
     "text": [
      "Lista 1 [1, 2, 3]\n",
      "Lista 1 [1, 2, 3, 4]\n",
      "Lista 2 [1, 2, 3, 4]\n"
     ]
    }
   ],
   "source": [
    "lista_1 = [1,2,3]\n",
    "lista_2 = lista_1\n",
    "print(\"Lista 1\", lista_1)\n",
    "lista_1.append(4)\n",
    "print(\"Lista 1\", lista_1) # 1,2,3,4\n",
    "print(\"Lista 2\", lista_2) # 1,2,3,4 también"
   ]
  },
  {
   "cell_type": "markdown",
   "metadata": {},
   "source": [
    "## Copia superficial (shallow)"
   ]
  },
  {
   "cell_type": "code",
   "execution_count": 6,
   "metadata": {},
   "outputs": [
    {
     "name": "stdout",
     "output_type": "stream",
     "text": [
      "Lista 1 [1, 2, 3]\n",
      "Lista 1 [1, 2, 3, 4]\n",
      "Lista 2 [1, 2, 3]\n"
     ]
    }
   ],
   "source": [
    "lista_superficial_1 = [1,2,3]\n",
    "lista_superficial_2 = lista_superficial_1[:]\n",
    "print(\"Lista 1\", lista_superficial_1)\n",
    "lista_superficial_1.append(4)\n",
    "print(\"Lista 1\", lista_superficial_1) # 1,2,3,4\n",
    "print(\"Lista 2\", lista_superficial_2) # 1,2,3"
   ]
  },
  {
   "cell_type": "markdown",
   "metadata": {},
   "source": [
    "## Copia profunda (deep)"
   ]
  },
  {
   "cell_type": "code",
   "execution_count": 2,
   "metadata": {},
   "outputs": [
    {
     "name": "stdout",
     "output_type": "stream",
     "text": [
      "[[1, 2], [3, 4, 5]]\n",
      "[[1, 2], [3, 4, 5]]\n"
     ]
    }
   ],
   "source": [
    "lista_profunda_1 = [[1,2], [3,4]]\n",
    "lista_profunda_2 = lista_profunda_1[:]\n",
    "lista_profunda_1[1].append(5) # actualiza la lista 1 y 2\n",
    "print(lista_profunda_1)\n",
    "print(lista_profunda_2)\n",
    "\n"
   ]
  },
  {
   "cell_type": "code",
   "execution_count": 4,
   "metadata": {},
   "outputs": [
    {
     "name": "stdout",
     "output_type": "stream",
     "text": [
      "[[1, 2], [3, 4, 5]]\n",
      "[[1, 2], [3, 4]]\n"
     ]
    }
   ],
   "source": [
    "from copy import deepcopy\n",
    "\n",
    "lista_1 = [[1,2], [3,4]]\n",
    "lista_2 = deepcopy(lista_1)\n",
    "lista_1[1].append(5) # actualiza la lista 1 y 2\n",
    "print(lista_1)\n",
    "print(lista_2)"
   ]
  },
  {
   "cell_type": "markdown",
   "metadata": {},
   "source": [
    "## Conclusiones:\n",
    "- id devuelve un identificador único del objeto\n",
    "- el operador `==` llama al método `__eq__` del objeto\n",
    "- el operador `is` compara las referencias de los objetos\n",
    "- el operador `is` no se puede modificar el comportamiento"
   ]
  },
  {
   "cell_type": "markdown",
   "metadata": {},
   "source": []
  }
 ],
 "metadata": {
  "kernelspec": {
   "display_name": "venv",
   "language": "python",
   "name": "python3"
  },
  "language_info": {
   "codemirror_mode": {
    "name": "ipython",
    "version": 3
   },
   "file_extension": ".py",
   "mimetype": "text/x-python",
   "name": "python",
   "nbconvert_exporter": "python",
   "pygments_lexer": "ipython3",
   "version": "3.13.2"
  }
 },
 "nbformat": 4,
 "nbformat_minor": 2
}
