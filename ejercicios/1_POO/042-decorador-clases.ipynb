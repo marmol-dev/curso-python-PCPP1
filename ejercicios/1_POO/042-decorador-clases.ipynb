{
 "cells": [
  {
   "cell_type": "code",
   "execution_count": 61,
   "metadata": {},
   "outputs": [],
   "source": [
    "def generador_pdf(cls: type):\n",
    "    print(\"Decorando clase \", cls.__name__)\n",
    "    \n",
    "    # Guardamos una referencia al método original \"info\"\n",
    "    original_info = cls.info\n",
    "    \n",
    "    # Definimos un nuevo método \"info\" que envuelve al original\n",
    "    def info_wrapper(self, *args, **kwargs):\n",
    "        print(\"Obteniendo info\")\n",
    "        print(args)\n",
    "        print(kwargs)\n",
    "        return original_info(self, *args, **kwargs)\n",
    "    \n",
    "    # Reemplazamos el método \"info\" de la clase con el nuevo método decorado\n",
    "    cls.info = info_wrapper\n",
    "    \n",
    "    return cls"
   ]
  },
  {
   "cell_type": "code",
   "execution_count": 67,
   "metadata": {},
   "outputs": [
    {
     "name": "stdout",
     "output_type": "stream",
     "text": [
      "Decorando clase  Ejemplo\n"
     ]
    }
   ],
   "source": [
    "@generador_pdf\n",
    "class Ejemplo:\n",
    "    def __init__(self, numero, importe):\n",
    "        self._numero = numero\n",
    "        self._importe = importe\n",
    "\n",
    "    def get_numero(self):\n",
    "        self._numero\n",
    "\n",
    "    def info(self):\n",
    "        print(\"Real info\")"
   ]
  },
  {
   "cell_type": "code",
   "execution_count": 68,
   "metadata": {},
   "outputs": [],
   "source": [
    "ejemplo = Ejemplo(1, 202)"
   ]
  },
  {
   "cell_type": "code",
   "execution_count": 69,
   "metadata": {},
   "outputs": [
    {
     "name": "stdout",
     "output_type": "stream",
     "text": [
      "Obteniendo info\n",
      "()\n",
      "{}\n",
      "Real info\n"
     ]
    }
   ],
   "source": [
    "ejemplo.info()"
   ]
  },
  {
   "cell_type": "code",
   "execution_count": 72,
   "metadata": {},
   "outputs": [
    {
     "name": "stdout",
     "output_type": "stream",
     "text": [
      "Información de la base de datos: MiBaseDeDatos\n",
      "El método info tomó 1.0054 segundos en ejecutarse\n",
      "Resultados de la consulta: SELECT * FROM users\n",
      "El método query tomó 0.5047 segundos en ejecutarse\n",
      "Información de la base de datos: MiBaseDeDatos\n",
      "El método info tomó 1.0006 segundos en ejecutarse\n",
      "\n",
      "Todos los tiempos guardados:\n",
      "{'info': [1.0053770542144775, 1.0005578994750977], 'query': [0.5046730041503906]}\n",
      "\n",
      "Tiempos por método 'info':\n",
      "[1.0053770542144775, 1.0005578994750977]\n",
      "\n",
      "Tiempos por método 'query':\n",
      "[0.5046730041503906]\n",
      "\n",
      "Media de los tiempos por método 'info':\n",
      "1.0029674768447876\n",
      "\n",
      "Media de los tiempos por método 'query':\n",
      "0.5046730041503906\n"
     ]
    }
   ],
   "source": [
    "import time\n",
    "\n",
    "class TimeMeasurer:\n",
    "    def __init__(self):\n",
    "        self.times = {}\n",
    "\n",
    "    def log_time(self, method_name, elapsed_time):\n",
    "        if method_name not in self.times:\n",
    "            self.times[method_name] = []\n",
    "        self.times[method_name].append(elapsed_time)\n",
    "\n",
    "    def get_all_times(self):\n",
    "        return self.times\n",
    "\n",
    "    def get_average_time(self, method_name):\n",
    "        if method_name in self.times:\n",
    "            return sum(self.times[method_name]) / len(self.times[method_name])\n",
    "        return None\n",
    "\n",
    "    def get_times_by_method(self, method_name):\n",
    "        return self.times.get(method_name, [])\n",
    "\n",
    "def measure_time(time_measurer):\n",
    "    def decorator(func):\n",
    "        def wrapper(*args, **kwargs):\n",
    "            start_time = time.time()\n",
    "            result = func(*args, **kwargs)\n",
    "            end_time = time.time()\n",
    "            elapsed_time = end_time - start_time\n",
    "            print(f\"El método {func.__name__} tomó {elapsed_time:.4f} segundos en ejecutarse\")\n",
    "            time_measurer.log_time(func.__name__, elapsed_time)\n",
    "            return result\n",
    "        return wrapper\n",
    "    return decorator\n",
    "\n",
    "# Instanciamos TimeMeasurer\n",
    "time_measurer = TimeMeasurer()\n",
    "\n",
    "class Database:\n",
    "    def __init__(self, db_name):\n",
    "        self._db_name = db_name\n",
    "\n",
    "    def get_db_name(self):\n",
    "        return self._db_name\n",
    "\n",
    "    @measure_time(time_measurer)\n",
    "    def info(self):\n",
    "        # Simulamos una operación que toma tiempo\n",
    "        time.sleep(1)\n",
    "        print(\"Información de la base de datos:\", self.get_db_name())\n",
    "\n",
    "    @measure_time(time_measurer)\n",
    "    def query(self, query):\n",
    "        # Simulamos una consulta que toma tiempo\n",
    "        time.sleep(0.5)\n",
    "        print(f\"Resultados de la consulta: {query}\")\n",
    "\n",
    "# Creando una instancia de Database\n",
    "db = Database(\"MiBaseDeDatos\")\n",
    "\n",
    "# Llamando al método info que está decorado\n",
    "db.info()\n",
    "\n",
    "# Llamando al método query que está decorado\n",
    "db.query(\"SELECT * FROM users\")\n",
    "\n",
    "# Llamando al método info nuevamente\n",
    "db.info()\n",
    "\n",
    "# Imprimir todos los tiempos guardados\n",
    "print(\"\\nTodos los tiempos guardados:\")\n",
    "print(time_measurer.get_all_times())\n",
    "\n",
    "# Imprimir los tiempos por método\n",
    "print(\"\\nTiempos por método 'info':\")\n",
    "print(time_measurer.get_times_by_method('info'))\n",
    "\n",
    "print(\"\\nTiempos por método 'query':\")\n",
    "print(time_measurer.get_times_by_method('query'))\n",
    "\n",
    "# Imprimir la media de los tiempos por método\n",
    "print(\"\\nMedia de los tiempos por método 'info':\")\n",
    "print(time_measurer.get_average_time('info'))\n",
    "\n",
    "print(\"\\nMedia de los tiempos por método 'query':\")\n",
    "print(time_measurer.get_average_time('query'))"
   ]
  },
  {
   "cell_type": "code",
   "execution_count": null,
   "metadata": {},
   "outputs": [],
   "source": []
  }
 ],
 "metadata": {
  "kernelspec": {
   "display_name": "venv",
   "language": "python",
   "name": "python3"
  },
  "language_info": {
   "codemirror_mode": {
    "name": "ipython",
    "version": 3
   },
   "file_extension": ".py",
   "mimetype": "text/x-python",
   "name": "python",
   "nbconvert_exporter": "python",
   "pygments_lexer": "ipython3",
   "version": "3.13.2"
  }
 },
 "nbformat": 4,
 "nbformat_minor": 2
}
