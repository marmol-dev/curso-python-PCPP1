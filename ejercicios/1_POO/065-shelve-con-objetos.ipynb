{
 "cells": [
  {
   "cell_type": "markdown",
   "metadata": {},
   "source": [
    "# Ejercicio 64"
   ]
  },
  {
   "cell_type": "markdown",
   "metadata": {},
   "source": [
    "Guardar objetos en disco en Python con el módulo Pickle."
   ]
  },
  {
   "cell_type": "code",
   "execution_count": null,
   "metadata": {},
   "outputs": [
    {
     "data": {
      "text/plain": [
       "<__main__.Libro at 0x10608bbb0>"
      ]
     },
     "execution_count": 7,
     "metadata": {},
     "output_type": "execute_result"
    }
   ],
   "source": [
    "import shelve\n",
    "\n",
    "class Libro:\n",
    "    def __init__(self, isbn: str, titulo: str, autor: str):\n",
    "        self.isbn = isbn\n",
    "        self.titulo = titulo\n",
    "        self.autor = autor\n",
    "\n",
    "    def __str__(self):\n",
    "        return f\"{self.isbn} - {self.titulo} - {self.autor}\"\n",
    "\n",
    "\"\"\"\n",
    "1.\tISBN: 978-0-14-303941-4Título: “Freakonomics”Autor: Stephen Dubner\n",
    "2.\tISBN: 978-0-09-947043-7Título: “Catch 22”Autor: Joseph Heller\n",
    "3.\tISBN: 978-0-14-303943-8Título: “The Moon is Down”Autor: John Steinbeck\n",
    "\"\"\"\n",
    "\n",
    "libro1 = Libro(\"978-0-14-303941-4\", \"Freakonomics\", \"Stephen Dubner\")\n",
    "libro2 = Libro(\"978-0-09-947043-7\", \"Catch 22\", \"Joseph Heller\")\n",
    "libro3 = Libro(\"978-0-14-303943-8\", \"The Moon is Down\", \"John Steinbeck\")\n",
    "\n",
    "fichero_libros = shelve.open('/tmp/python-libros.shlv', flag='c')\n",
    "fichero_libros[libro1.isbn] = libro1\n",
    "fichero_libros[libro2.isbn] = libro2\n",
    "fichero_libros[libro3.isbn] = libro3\n",
    "fichero_libros.close()\n",
    "\n",
    "\n"
   ]
  },
  {
   "cell_type": "code",
   "execution_count": 8,
   "metadata": {},
   "outputs": [
    {
     "name": "stdout",
     "output_type": "stream",
     "text": [
      "978-0-14-303941-4 - Freakonomics - Stephen Dubner\n"
     ]
    }
   ],
   "source": [
    "fichero_libros = shelve.open('/tmp/python-libros.shlv', flag='r')\n",
    "print(fichero_libros['978-0-14-303941-4'])"
   ]
  },
  {
   "cell_type": "markdown",
   "metadata": {},
   "source": [
    "## Conclusiones\n",
    "\n",
    "- 'shelve' está basado en 'pickle' y permite guardar objetos en disco de forma sencilla.\n",
    "- 'shelve' está pensado para guardar diccionarios.\n",
    "\n"
   ]
  },
  {
   "cell_type": "markdown",
   "metadata": {},
   "source": []
  }
 ],
 "metadata": {
  "kernelspec": {
   "display_name": "venv",
   "language": "python",
   "name": "python3"
  },
  "language_info": {
   "codemirror_mode": {
    "name": "ipython",
    "version": 3
   },
   "file_extension": ".py",
   "mimetype": "text/x-python",
   "name": "python",
   "nbconvert_exporter": "python",
   "pygments_lexer": "ipython3",
   "version": "3.13.2"
  }
 },
 "nbformat": 4,
 "nbformat_minor": 2
}
