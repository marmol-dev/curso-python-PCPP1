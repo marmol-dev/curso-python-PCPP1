{
 "cells": [
  {
   "cell_type": "code",
   "execution_count": 3,
   "metadata": {},
   "outputs": [],
   "source": [
    "class Videojuego(object):\n",
    "    def __init__(self, titulo: str, plataforma: str):\n",
    "        self.titulo = titulo\n",
    "        self.plataforma = plataforma\n",
    "\n",
    "    def __eq__(self, value):\n",
    "        return isinstance(value, Videojuego) and self.titulo == value.titulo\n",
    "\n",
    "\n",
    "v1 = Videojuego('Call of Duty', 'PS5')\n",
    "v2 = Videojuego('Call of Duty', 'PC')    "
   ]
  },
  {
   "cell_type": "code",
   "execution_count": null,
   "metadata": {},
   "outputs": [
    {
     "name": "stdout",
     "output_type": "stream",
     "text": [
      "True\n",
      "False\n",
      "4390517936\n",
      "4390410256\n"
     ]
    }
   ],
   "source": [
    "print(v1 == v2)\n",
    "print(v1 is v2)\n",
    "print(id(v1))\n",
    "print(id(v2))\n"
   ]
  }
 ],
 "metadata": {
  "kernelspec": {
   "display_name": "venv",
   "language": "python",
   "name": "python3"
  },
  "language_info": {
   "codemirror_mode": {
    "name": "ipython",
    "version": 3
   },
   "file_extension": ".py",
   "mimetype": "text/x-python",
   "name": "python",
   "nbconvert_exporter": "python",
   "pygments_lexer": "ipython3",
   "version": "3.13.2"
  }
 },
 "nbformat": 4,
 "nbformat_minor": 2
}
