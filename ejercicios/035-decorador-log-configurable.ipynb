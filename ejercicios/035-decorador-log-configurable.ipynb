{
 "cells": [
  {
   "cell_type": "code",
   "execution_count": 10,
   "metadata": {},
   "outputs": [
    {
     "name": "stdout",
     "output_type": "stream",
     "text": [
      "Decorating calcular_suma\n",
      " Arg: sum1, Type: <class 'int'>, Default: <class 'inspect._empty'>\n",
      " Arg: sum2, Type: <class 'int'>, Default: <class 'inspect._empty'>\n",
      "Calling function calcular_suma with args: [1, 2] and kwargs: {}\n",
      "Return function calcular_suma: 3\n",
      "Calling function calcular_suma with args: [1, 3] and kwargs: {}\n",
      "Return function calcular_suma: 4\n",
      "Decorating calcular_resta\n",
      " Arg: sum1, Type: <class 'int'>, Default: <class 'inspect._empty'>\n",
      " Arg: sum2, Type: <class 'int'>, Default: <class 'inspect._empty'>\n"
     ]
    },
    {
     "data": {
      "text/plain": [
       "0"
      ]
     },
     "execution_count": 10,
     "metadata": {},
     "output_type": "execute_result"
    }
   ],
   "source": [
    "from json import dumps\n",
    "from typing import Callable\n",
    "import inspect\n",
    "\n",
    "class Persistence:\n",
    "    def write(msg: str):\n",
    "        raise NotImplementedError(\"Not implemented\")\n",
    "    \n",
    "class StdoutPersistence(Persistence):\n",
    "    def write(self, msg):\n",
    "        print(msg)\n",
    "\n",
    "class FilePersistence(Persistence):\n",
    "    def __init__(self, file_name: str):\n",
    "        super().__init__()\n",
    "        self._file_name = file_name\n",
    "\n",
    "    def write(self, msg):\n",
    "        with open(self._file_name, 'a') as d:\n",
    "            d.write(msg + \"\\n\")\n",
    "\n",
    "stdout_persistence = StdoutPersistence()\n",
    "file_persistence = FilePersistence('/tmp/python-035.log')\n",
    "\n",
    "def logger(persistence: Persistence):\n",
    "    def fn_wrapper(fn: Callable):\n",
    "        signature = inspect.signature(fn)\n",
    "        fn_name = fn.__name__\n",
    "        print(f\"Decorating {fn_name}\")\n",
    "        for param in signature.parameters.values():\n",
    "            print(f\" Arg: {param.name}, Type: {param.annotation}, Default: {param.default}\")\n",
    "\n",
    "        def args_wrapper(*args, **kwargs):\n",
    "            fn_name = fn.__name__\n",
    "            args_str = dumps(args)\n",
    "            kwargs_str = dumps(kwargs)\n",
    "            persistence.write(f\"Calling function {fn_name} with args: {args_str} and kwargs: {kwargs_str}\")\n",
    "            res = fn(*args, **kwargs)\n",
    "            res_json = dumps(res)\n",
    "            persistence.write(f\"Return function {fn_name}: {res_json}\")\n",
    "            return res\n",
    "        return args_wrapper\n",
    "    return fn_wrapper\n",
    "\n",
    "\n",
    "@logger(stdout_persistence)\n",
    "def calcular_suma(sum1: int, sum2: int):\n",
    "    return sum1 + sum2\n",
    "\n",
    "calcular_suma(1,2)\n",
    "calcular_suma(1,3)\n",
    "\n",
    "@logger(file_persistence)\n",
    "def calcular_resta(sum1: int, sum2: int):\n",
    "    return sum1 - sum2\n",
    "\n",
    "calcular_resta(2,1)\n",
    "calcular_resta(2,2)"
   ]
  },
  {
   "cell_type": "code",
   "execution_count": 5,
   "metadata": {},
   "outputs": [
    {
     "name": "stdout",
     "output_type": "stream",
     "text": [
      "Calling function calcular_resta with args: [2, 1] and kwargs: {}\n",
      "Return function calcular_resta: 1\n"
     ]
    }
   ],
   "source": [
    "!cat /tmp/python-035.log"
   ]
  },
  {
   "cell_type": "code",
   "execution_count": 11,
   "metadata": {},
   "outputs": [
    {
     "name": "stdout",
     "output_type": "stream",
     "text": [
      "A txt\n"
     ]
    },
    {
     "data": {
      "text/plain": [
       "3"
      ]
     },
     "execution_count": 11,
     "metadata": {},
     "output_type": "execute_result"
    }
   ],
   "source": [
    "from enum import Enum\n",
    "\n",
    "class TipoPersistencia(Enum):\n",
    "    TXT = 1\n",
    "    DB = 2\n",
    "    HTTP = 3\n",
    "\n",
    "def super_logger(tipo_persistencia: TipoPersistencia):\n",
    "    def fn_wrapper(fn: Callable):\n",
    "        def invocation_wrapper(*args, **kwargs):\n",
    "            match tipo_persistencia:\n",
    "                case TipoPersistencia.TXT:\n",
    "                    print(\"A txt\")\n",
    "                case TipoPersistencia.DB:\n",
    "                    print(\"A db\")\n",
    "                case TipoPersistencia.HTTP:\n",
    "                    print(\"A http\")\n",
    "            return fn(*args, **kwargs)\n",
    "        return invocation_wrapper\n",
    "    return fn_wrapper\n",
    "\n",
    "@super_logger(TipoPersistencia.TXT)\n",
    "def sumar(sum1, sum2):\n",
    "    return sum1+sum2\n",
    "\n",
    "sumar(1,2)\n",
    "\n",
    "        \n",
    "\n"
   ]
  },
  {
   "cell_type": "code",
   "execution_count": 23,
   "metadata": {},
   "outputs": [],
   "source": [
    "class UsersRepository:\n",
    "    def find(query: dict = {}):\n",
    "        return []\n",
    "\n",
    "\n",
    "\n",
    "class UsersController:\n",
    "    def __init__(self, users_repo: UsersRepository, headers: dict):\n",
    "        self._users_repo = users_repo\n",
    "        self._headers = headers\n",
    "\n",
    "    def get_users(self):\n",
    "        return self._users_repo.find()\n"
   ]
  },
  {
   "cell_type": "code",
   "execution_count": 24,
   "metadata": {},
   "outputs": [
    {
     "name": "stdout",
     "output_type": "stream",
     "text": [
      "Requirement already satisfied: dependency_injector in /Users/marmol/dev/personal/cursos/python-pcpp1/venv/lib/python3.13/site-packages (4.46.0)\n",
      "\n",
      "\u001b[1m[\u001b[0m\u001b[34;49mnotice\u001b[0m\u001b[1;39;49m]\u001b[0m\u001b[39;49m A new release of pip is available: \u001b[0m\u001b[31;49m25.0\u001b[0m\u001b[39;49m -> \u001b[0m\u001b[32;49m25.0.1\u001b[0m\n",
      "\u001b[1m[\u001b[0m\u001b[34;49mnotice\u001b[0m\u001b[1;39;49m]\u001b[0m\u001b[39;49m To update, run: \u001b[0m\u001b[32;49mpip install --upgrade pip\u001b[0m\n"
     ]
    }
   ],
   "source": [
    "!pip install dependency_injector"
   ]
  },
  {
   "cell_type": "code",
   "execution_count": 25,
   "metadata": {},
   "outputs": [],
   "source": [
    "from dependency_injector import containers, providers\n",
    "from dependency_injector.wiring import Provide, inject\n"
   ]
  },
  {
   "cell_type": "code",
   "execution_count": 26,
   "metadata": {},
   "outputs": [],
   "source": [
    "from dependency_injector import containers, providers\n",
    "\n",
    "class Container(containers.DeclarativeContainer):\n",
    "    wiring_config = containers.WiringConfiguration(modules=[\"__main__\"])\n",
    "\n",
    "    config = providers.Configuration()\n",
    "    headers = providers.Dependency()  # <--- Define las headers como una dependencia\n",
    "\n",
    "    users_repo = providers.Singleton(UsersRepository)\n",
    "    users_controller = providers.Factory(\n",
    "        UsersController,\n",
    "        users_repo=users_repo,\n",
    "        headers=headers,  # <--- Inyecta las headers en el controlador\n",
    "    )\n"
   ]
  },
  {
   "cell_type": "code",
   "execution_count": 27,
   "metadata": {},
   "outputs": [
    {
     "data": {
      "text/plain": [
       "[]"
      ]
     },
     "execution_count": 27,
     "metadata": {},
     "output_type": "execute_result"
    }
   ],
   "source": [
    "\n",
    "container = Container()\n",
    "container.config.from_dict({\"some_config\": \"some_value\"})  # <--- Carga la configuración\n",
    "headers = {\"Authorization\": \"Bearer some_token\"}  # <--- Define las headers\n",
    "container.headers.override(headers)  # <--- Proporciona las headers al contenedor\n",
    "\n",
    "users_controller = container.users_controller()  # <--- Crea el controlador con las headers inyectadas\n",
    "users_controller.get_users()"
   ]
  },
  {
   "cell_type": "code",
   "execution_count": null,
   "metadata": {},
   "outputs": [],
   "source": []
  }
 ],
 "metadata": {
  "kernelspec": {
   "display_name": "venv",
   "language": "python",
   "name": "python3"
  },
  "language_info": {
   "codemirror_mode": {
    "name": "ipython",
    "version": 3
   },
   "file_extension": ".py",
   "mimetype": "text/x-python",
   "name": "python",
   "nbconvert_exporter": "python",
   "pygments_lexer": "ipython3",
   "version": "3.13.2"
  }
 },
 "nbformat": 4,
 "nbformat_minor": 2
}
