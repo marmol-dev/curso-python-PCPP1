{
 "cells": [
  {
   "cell_type": "markdown",
   "metadata": {},
   "source": [
    "Queremos disponer de un direccionario de tipos concretos en los que las claves van a ser números enteros y los valores van a ser instancias de la clase Cliente."
   ]
  },
  {
   "cell_type": "code",
   "execution_count": null,
   "metadata": {},
   "outputs": [],
   "source": []
  },
  {
   "cell_type": "code",
   "execution_count": 81,
   "metadata": {},
   "outputs": [],
   "source": [
    "class Cliente:\n",
    "    def __init__(self, nombre: str, apellidos: str, dni: str):\n",
    "        self.nombre = nombre\n",
    "        self.apellidos = apellidos\n",
    "        self.dni = dni\n",
    "\n",
    "    def __repr__(self):\n",
    "        return f\"Cliente(Nombre: {self.nombre}, Apellidos: {self.apellidos}, DNI: {self.dni})\"\n",
    "    \n",
    "class DictTipado(dict):\n",
    "    key_type = str\n",
    "    value_type = str\n",
    "\n",
    "    @classmethod\n",
    "    def validate_items(self, items: dict):\n",
    "        return all(self.validate_item(k,v) for k, v in items.items())\n",
    "    \n",
    "    @classmethod\n",
    "    def validate_item(self, k, v):\n",
    "        if not isinstance(k, self.key_type) :\n",
    "            raise TypeError('Clave incorrecta')\n",
    "        \n",
    "        if not isinstance(v, self.value_type):\n",
    "            raise TypeError('Tipo incorrecto')\n",
    "\n",
    "\n",
    "    def __init__(self, initial: dict = {}):\n",
    "        self.validate_items(initial)\n",
    "        super().__init__(initial)\n",
    "\n",
    "    def __setitem__(self, key, value):\n",
    "        self.validate_item(key, value)\n",
    "        return super().__setitem__(key, value)\n",
    "\n",
    "class ListaClientes(DictTipado):\n",
    "    key_type = int\n",
    "    value_type = Cliente\n",
    "\n"
   ]
  },
  {
   "cell_type": "code",
   "execution_count": 82,
   "metadata": {},
   "outputs": [],
   "source": [
    "lc = ListaClientes({1: Cliente('Martín', 'Molina', '1234568A')})\n",
    "lc[2] = Cliente('Juan', 'Magán', '1234568B')"
   ]
  },
  {
   "cell_type": "code",
   "execution_count": 83,
   "metadata": {},
   "outputs": [
    {
     "data": {
      "text/plain": [
       "{}"
      ]
     },
     "execution_count": 83,
     "metadata": {},
     "output_type": "execute_result"
    }
   ],
   "source": [
    "ListaClientes()"
   ]
  },
  {
   "cell_type": "code",
   "execution_count": 84,
   "metadata": {},
   "outputs": [
    {
     "ename": "TypeError",
     "evalue": "Tipo incorrecto",
     "output_type": "error",
     "traceback": [
      "\u001b[31m---------------------------------------------------------------------------\u001b[39m",
      "\u001b[31mTypeError\u001b[39m                                 Traceback (most recent call last)",
      "\u001b[36mCell\u001b[39m\u001b[36m \u001b[39m\u001b[32mIn[84]\u001b[39m\u001b[32m, line 1\u001b[39m\n\u001b[32m----> \u001b[39m\u001b[32m1\u001b[39m \u001b[43mListaClientes\u001b[49m\u001b[43m(\u001b[49m\u001b[43m{\u001b[49m\u001b[32;43m1\u001b[39;49m\u001b[43m:\u001b[49m\u001b[43m \u001b[49m\u001b[32;43m1\u001b[39;49m\u001b[43m}\u001b[49m\u001b[43m)\u001b[49m\n",
      "\u001b[36mCell\u001b[39m\u001b[36m \u001b[39m\u001b[32mIn[81]\u001b[39m\u001b[32m, line 28\u001b[39m, in \u001b[36mDictTipado.__init__\u001b[39m\u001b[34m(self, initial)\u001b[39m\n\u001b[32m     27\u001b[39m \u001b[38;5;28;01mdef\u001b[39;00m\u001b[38;5;250m \u001b[39m\u001b[34m__init__\u001b[39m(\u001b[38;5;28mself\u001b[39m, initial: \u001b[38;5;28mdict\u001b[39m = {}):\n\u001b[32m---> \u001b[39m\u001b[32m28\u001b[39m     \u001b[38;5;28;43mself\u001b[39;49m\u001b[43m.\u001b[49m\u001b[43mvalidate_items\u001b[49m\u001b[43m(\u001b[49m\u001b[43minitial\u001b[49m\u001b[43m)\u001b[49m\n\u001b[32m     29\u001b[39m     \u001b[38;5;28msuper\u001b[39m().\u001b[34m__init__\u001b[39m(initial)\n",
      "\u001b[36mCell\u001b[39m\u001b[36m \u001b[39m\u001b[32mIn[81]\u001b[39m\u001b[32m, line 16\u001b[39m, in \u001b[36mDictTipado.validate_items\u001b[39m\u001b[34m(self, items)\u001b[39m\n\u001b[32m     14\u001b[39m \u001b[38;5;129m@classmethod\u001b[39m\n\u001b[32m     15\u001b[39m \u001b[38;5;28;01mdef\u001b[39;00m\u001b[38;5;250m \u001b[39m\u001b[34mvalidate_items\u001b[39m(\u001b[38;5;28mself\u001b[39m, items: \u001b[38;5;28mdict\u001b[39m):\n\u001b[32m---> \u001b[39m\u001b[32m16\u001b[39m     \u001b[38;5;28;01mreturn\u001b[39;00m \u001b[38;5;28;43mall\u001b[39;49m\u001b[43m(\u001b[49m\u001b[38;5;28;43mself\u001b[39;49m\u001b[43m.\u001b[49m\u001b[43mvalidate_item\u001b[49m\u001b[43m(\u001b[49m\u001b[43mk\u001b[49m\u001b[43m,\u001b[49m\u001b[43mv\u001b[49m\u001b[43m)\u001b[49m\u001b[43m \u001b[49m\u001b[38;5;28;43;01mfor\u001b[39;49;00m\u001b[43m \u001b[49m\u001b[43mk\u001b[49m\u001b[43m,\u001b[49m\u001b[43m \u001b[49m\u001b[43mv\u001b[49m\u001b[43m \u001b[49m\u001b[38;5;129;43;01min\u001b[39;49;00m\u001b[43m \u001b[49m\u001b[43mitems\u001b[49m\u001b[43m.\u001b[49m\u001b[43mitems\u001b[49m\u001b[43m(\u001b[49m\u001b[43m)\u001b[49m\u001b[43m)\u001b[49m\n",
      "\u001b[36mCell\u001b[39m\u001b[36m \u001b[39m\u001b[32mIn[81]\u001b[39m\u001b[32m, line 16\u001b[39m, in \u001b[36m<genexpr>\u001b[39m\u001b[34m(.0)\u001b[39m\n\u001b[32m     14\u001b[39m \u001b[38;5;129m@classmethod\u001b[39m\n\u001b[32m     15\u001b[39m \u001b[38;5;28;01mdef\u001b[39;00m\u001b[38;5;250m \u001b[39m\u001b[34mvalidate_items\u001b[39m(\u001b[38;5;28mself\u001b[39m, items: \u001b[38;5;28mdict\u001b[39m):\n\u001b[32m---> \u001b[39m\u001b[32m16\u001b[39m     \u001b[38;5;28;01mreturn\u001b[39;00m \u001b[38;5;28mall\u001b[39m(\u001b[38;5;28;43mself\u001b[39;49m\u001b[43m.\u001b[49m\u001b[43mvalidate_item\u001b[49m\u001b[43m(\u001b[49m\u001b[43mk\u001b[49m\u001b[43m,\u001b[49m\u001b[43mv\u001b[49m\u001b[43m)\u001b[49m \u001b[38;5;28;01mfor\u001b[39;00m k, v \u001b[38;5;129;01min\u001b[39;00m items.items())\n",
      "\u001b[36mCell\u001b[39m\u001b[36m \u001b[39m\u001b[32mIn[81]\u001b[39m\u001b[32m, line 24\u001b[39m, in \u001b[36mDictTipado.validate_item\u001b[39m\u001b[34m(self, k, v)\u001b[39m\n\u001b[32m     21\u001b[39m     \u001b[38;5;28;01mraise\u001b[39;00m \u001b[38;5;167;01mTypeError\u001b[39;00m(\u001b[33m'\u001b[39m\u001b[33mClave incorrecta\u001b[39m\u001b[33m'\u001b[39m)\n\u001b[32m     23\u001b[39m \u001b[38;5;28;01mif\u001b[39;00m \u001b[38;5;129;01mnot\u001b[39;00m \u001b[38;5;28misinstance\u001b[39m(v, \u001b[38;5;28mself\u001b[39m.value_type):\n\u001b[32m---> \u001b[39m\u001b[32m24\u001b[39m     \u001b[38;5;28;01mraise\u001b[39;00m \u001b[38;5;167;01mTypeError\u001b[39;00m(\u001b[33m'\u001b[39m\u001b[33mTipo incorrecto\u001b[39m\u001b[33m'\u001b[39m)\n",
      "\u001b[31mTypeError\u001b[39m: Tipo incorrecto"
     ]
    }
   ],
   "source": [
    "ListaClientes({1: 1})"
   ]
  },
  {
   "cell_type": "code",
   "execution_count": 51,
   "metadata": {},
   "outputs": [
    {
     "ename": "TypeError",
     "evalue": "Clave incorrecta",
     "output_type": "error",
     "traceback": [
      "\u001b[31m---------------------------------------------------------------------------\u001b[39m",
      "\u001b[31mTypeError\u001b[39m                                 Traceback (most recent call last)",
      "\u001b[36mCell\u001b[39m\u001b[36m \u001b[39m\u001b[32mIn[51]\u001b[39m\u001b[32m, line 1\u001b[39m\n\u001b[32m----> \u001b[39m\u001b[32m1\u001b[39m \u001b[43mListaClientes\u001b[49m\u001b[43m(\u001b[49m\u001b[43m{\u001b[49m\u001b[33;43m'\u001b[39;49m\u001b[33;43ma\u001b[39;49m\u001b[33;43m'\u001b[39;49m\u001b[43m:\u001b[49m\u001b[43m \u001b[49m\u001b[43mCliente\u001b[49m\u001b[43m(\u001b[49m\u001b[33;43m'\u001b[39;49m\u001b[33;43mMartin\u001b[39;49m\u001b[33;43m'\u001b[39;49m\u001b[43m,\u001b[49m\u001b[43m \u001b[49m\u001b[33;43m'\u001b[39;49m\u001b[33;43mMolina\u001b[39;49m\u001b[33;43m'\u001b[39;49m\u001b[43m,\u001b[49m\u001b[43m \u001b[49m\u001b[33;43m'\u001b[39;49m\u001b[33;43m12345678A\u001b[39;49m\u001b[33;43m'\u001b[39;49m\u001b[43m)\u001b[49m\u001b[43m}\u001b[49m\u001b[43m)\u001b[49m\n",
      "\u001b[36mCell\u001b[39m\u001b[36m \u001b[39m\u001b[32mIn[46]\u001b[39m\u001b[32m, line 25\u001b[39m, in \u001b[36mListaClientes.__init__\u001b[39m\u001b[34m(self, initial)\u001b[39m\n\u001b[32m     24\u001b[39m \u001b[38;5;28;01mdef\u001b[39;00m\u001b[38;5;250m \u001b[39m\u001b[34m__init__\u001b[39m(\u001b[38;5;28mself\u001b[39m, initial: \u001b[38;5;28mdict\u001b[39m = {}):\n\u001b[32m---> \u001b[39m\u001b[32m25\u001b[39m     \u001b[43mListaClientes\u001b[49m\u001b[43m.\u001b[49m\u001b[43mvalidate_dict\u001b[49m\u001b[43m(\u001b[49m\u001b[43minitial\u001b[49m\u001b[43m)\u001b[49m\n\u001b[32m     26\u001b[39m     \u001b[38;5;28msuper\u001b[39m().\u001b[34m__init__\u001b[39m(initial)\n",
      "\u001b[36mCell\u001b[39m\u001b[36m \u001b[39m\u001b[32mIn[46]\u001b[39m\u001b[32m, line 13\u001b[39m, in \u001b[36mListaClientes.validate_dict\u001b[39m\u001b[34m(clients)\u001b[39m\n\u001b[32m     11\u001b[39m \u001b[38;5;129m@staticmethod\u001b[39m\n\u001b[32m     12\u001b[39m \u001b[38;5;28;01mdef\u001b[39;00m\u001b[38;5;250m \u001b[39m\u001b[34mvalidate_dict\u001b[39m( clients: \u001b[38;5;28mdict\u001b[39m):\n\u001b[32m---> \u001b[39m\u001b[32m13\u001b[39m     \u001b[38;5;28;01mreturn\u001b[39;00m \u001b[38;5;28;43mall\u001b[39;49m\u001b[43m(\u001b[49m\u001b[43mListaClientes\u001b[49m\u001b[43m.\u001b[49m\u001b[43mvalidate_item\u001b[49m\u001b[43m(\u001b[49m\u001b[43mk\u001b[49m\u001b[43m,\u001b[49m\u001b[43mv\u001b[49m\u001b[43m)\u001b[49m\u001b[43m \u001b[49m\u001b[38;5;28;43;01mfor\u001b[39;49;00m\u001b[43m \u001b[49m\u001b[43mk\u001b[49m\u001b[43m,\u001b[49m\u001b[43m \u001b[49m\u001b[43mv\u001b[49m\u001b[43m \u001b[49m\u001b[38;5;129;43;01min\u001b[39;49;00m\u001b[43m \u001b[49m\u001b[43mclients\u001b[49m\u001b[43m.\u001b[49m\u001b[43mitems\u001b[49m\u001b[43m(\u001b[49m\u001b[43m)\u001b[49m\u001b[43m)\u001b[49m\n",
      "\u001b[36mCell\u001b[39m\u001b[36m \u001b[39m\u001b[32mIn[46]\u001b[39m\u001b[32m, line 13\u001b[39m, in \u001b[36m<genexpr>\u001b[39m\u001b[34m(.0)\u001b[39m\n\u001b[32m     11\u001b[39m \u001b[38;5;129m@staticmethod\u001b[39m\n\u001b[32m     12\u001b[39m \u001b[38;5;28;01mdef\u001b[39;00m\u001b[38;5;250m \u001b[39m\u001b[34mvalidate_dict\u001b[39m( clients: \u001b[38;5;28mdict\u001b[39m):\n\u001b[32m---> \u001b[39m\u001b[32m13\u001b[39m     \u001b[38;5;28;01mreturn\u001b[39;00m \u001b[38;5;28mall\u001b[39m(\u001b[43mListaClientes\u001b[49m\u001b[43m.\u001b[49m\u001b[43mvalidate_item\u001b[49m\u001b[43m(\u001b[49m\u001b[43mk\u001b[49m\u001b[43m,\u001b[49m\u001b[43mv\u001b[49m\u001b[43m)\u001b[49m \u001b[38;5;28;01mfor\u001b[39;00m k, v \u001b[38;5;129;01min\u001b[39;00m clients.items())\n",
      "\u001b[36mCell\u001b[39m\u001b[36m \u001b[39m\u001b[32mIn[46]\u001b[39m\u001b[32m, line 18\u001b[39m, in \u001b[36mListaClientes.validate_item\u001b[39m\u001b[34m(k, v)\u001b[39m\n\u001b[32m     15\u001b[39m \u001b[38;5;129m@staticmethod\u001b[39m\n\u001b[32m     16\u001b[39m \u001b[38;5;28;01mdef\u001b[39;00m\u001b[38;5;250m \u001b[39m\u001b[34mvalidate_item\u001b[39m(k: \u001b[38;5;28mint\u001b[39m, v: Cliente):\n\u001b[32m     17\u001b[39m     \u001b[38;5;28;01mif\u001b[39;00m \u001b[38;5;129;01mnot\u001b[39;00m \u001b[38;5;28misinstance\u001b[39m(k, \u001b[38;5;28mint\u001b[39m) :\n\u001b[32m---> \u001b[39m\u001b[32m18\u001b[39m         \u001b[38;5;28;01mraise\u001b[39;00m \u001b[38;5;167;01mTypeError\u001b[39;00m(\u001b[33m'\u001b[39m\u001b[33mClave incorrecta\u001b[39m\u001b[33m'\u001b[39m)\n\u001b[32m     20\u001b[39m     \u001b[38;5;28;01mif\u001b[39;00m \u001b[38;5;129;01mnot\u001b[39;00m \u001b[38;5;28misinstance\u001b[39m(v, Cliente):\n\u001b[32m     21\u001b[39m         \u001b[38;5;28;01mraise\u001b[39;00m \u001b[38;5;167;01mTypeError\u001b[39;00m(\u001b[33m'\u001b[39m\u001b[33mTipo Cliente incorrecto\u001b[39m\u001b[33m'\u001b[39m)\n",
      "\u001b[31mTypeError\u001b[39m: Clave incorrecta"
     ]
    }
   ],
   "source": [
    "ListaClientes({'a': Cliente('Martin', 'Molina', '12345678A')})"
   ]
  },
  {
   "cell_type": "code",
   "execution_count": 34,
   "metadata": {},
   "outputs": [
    {
     "name": "stdout",
     "output_type": "stream",
     "text": [
      "¿Todos los clientes son válidos? True\n"
     ]
    }
   ],
   "source": [
    "# Ejemplo de uso\n",
    "cliente1 = Cliente(\"Juan\", \"Fernandez\", \"12345678A\")\n",
    "cliente2 = Cliente(\"María\", \"Pérez\", \"12345678B\")\n",
    "\n",
    "# Diccionario con claves enteras y valores de tipo Cliente\n",
    "diccionario_clientes = {1: cliente1, 2: cliente2}\n",
    "\n",
    "# Validación\n",
    "resultado = ListaClientes.validate(diccionario_clientes)\n",
    "print(\"¿Todos los clientes son válidos?\", resultado)  # Salida: True"
   ]
  },
  {
   "cell_type": "code",
   "execution_count": null,
   "metadata": {},
   "outputs": [
    {
     "ename": "TypeError",
     "evalue": "keywords must be strings",
     "output_type": "error",
     "traceback": [
      "\u001b[31m---------------------------------------------------------------------------\u001b[39m",
      "\u001b[31mTypeError\u001b[39m                                 Traceback (most recent call last)",
      "\u001b[36mCell\u001b[39m\u001b[36m \u001b[39m\u001b[32mIn[60]\u001b[39m\u001b[32m, line 1\u001b[39m\n\u001b[32m----> \u001b[39m\u001b[32m1\u001b[39m lc = \u001b[43mListaClientes\u001b[49m\u001b[43m(\u001b[49m\u001b[43m{\u001b[49m\u001b[32;43m1\u001b[39;49m\u001b[43m:\u001b[49m\u001b[43m \u001b[49m\u001b[43mCliente\u001b[49m\u001b[43m(\u001b[49m\u001b[33;43m'\u001b[39;49m\u001b[33;43mMartín\u001b[39;49m\u001b[33;43m'\u001b[39;49m\u001b[43m,\u001b[49m\u001b[43m \u001b[49m\u001b[33;43m'\u001b[39;49m\u001b[33;43mMolina\u001b[39;49m\u001b[33;43m'\u001b[39;49m\u001b[43m,\u001b[49m\u001b[43m \u001b[49m\u001b[33;43m'\u001b[39;49m\u001b[33;43m1234568A\u001b[39;49m\u001b[33;43m'\u001b[39;49m\u001b[43m)\u001b[49m\u001b[43m}\u001b[49m\u001b[43m)\u001b[49m\n\u001b[32m      2\u001b[39m lc[\u001b[32m2\u001b[39m] = Cliente(\u001b[33m'\u001b[39m\u001b[33mJuan\u001b[39m\u001b[33m'\u001b[39m, \u001b[33m'\u001b[39m\u001b[33mMagán\u001b[39m\u001b[33m'\u001b[39m, \u001b[33m'\u001b[39m\u001b[33m1234568B\u001b[39m\u001b[33m'\u001b[39m)\n",
      "\u001b[36mCell\u001b[39m\u001b[36m \u001b[39m\u001b[32mIn[57]\u001b[39m\u001b[32m, line 28\u001b[39m, in \u001b[36mListaClientes.__init__\u001b[39m\u001b[34m(self, initial)\u001b[39m\n\u001b[32m     26\u001b[39m \u001b[38;5;28;01mdef\u001b[39;00m\u001b[38;5;250m \u001b[39m\u001b[34m__init__\u001b[39m(\u001b[38;5;28mself\u001b[39m, initial: \u001b[38;5;28mdict\u001b[39m = {}):\n\u001b[32m     27\u001b[39m     ListaClientes.validate_dict(initial)\n\u001b[32m---> \u001b[39m\u001b[32m28\u001b[39m     \u001b[38;5;28;43msuper\u001b[39;49m\u001b[43m(\u001b[49m\u001b[43m)\u001b[49m\u001b[43m.\u001b[49m\u001b[34;43m__init__\u001b[39;49m\u001b[43m(\u001b[49m\u001b[43m*\u001b[49m\u001b[43m*\u001b[49m\u001b[43minitial\u001b[49m\u001b[43m)\u001b[49m\n",
      "\u001b[31mTypeError\u001b[39m: keywords must be strings"
     ]
    }
   ],
   "source": [
    "lc = ListaClientes({1: Cliente('Martín', 'Molina', '1234568A')})\n",
    "lc[2] = Cliente('Juan', 'Magán', '1234568B')"
   ]
  },
  {
   "cell_type": "code",
   "execution_count": 89,
   "metadata": {},
   "outputs": [],
   "source": [
    "def dict_tipado(key_type, value_type):\n",
    "    \"\"\"\n",
    "    Decorador que crea un diccionario tipado con tipos específicos para claves y valores.\n",
    "    \n",
    "    Args:\n",
    "        key_type: El tipo que deben tener las claves del diccionario\n",
    "        value_type: El tipo que deben tener los valores del diccionario\n",
    "    \n",
    "    Returns:\n",
    "        Una clase que hereda de dict con validación de tipos\n",
    "    \"\"\"\n",
    "    def decorator(cls):\n",
    "        # Creamos una nueva clase que hereda tanto de dict como de la clase decorada\n",
    "        class DictWrapper(dict):\n",
    "            def validate_item(self, key, value):\n",
    "                if not isinstance(key, key_type):\n",
    "                    raise TypeError(f'Clave incorrecta. Se esperaba {key_type.__name__} pero se obtuvo {type(key).__name__}')\n",
    "                \n",
    "                if not isinstance(value, value_type):\n",
    "                    raise TypeError(f'Valor incorrecto. Se esperaba {value_type.__name__} pero se obtuvo {type(value).__name__}')\n",
    "                return True\n",
    "            \n",
    "            def validate_items(self, items):\n",
    "                return all(self.validate_item(k, v) for k, v in items.items())\n",
    "            \n",
    "            def __init__(self, initial=None):\n",
    "                if initial is None:\n",
    "                    initial = {}\n",
    "                self.validate_items(initial)\n",
    "                dict.__init__(self, initial)\n",
    "                \n",
    "                # Inicializar atributos de la clase decorada si los tiene\n",
    "                if hasattr(cls, '__init__'):\n",
    "                    # Llamamos al __init__ de la clase decorada sin pasar argumentos\n",
    "                    # que ya hemos procesado para el diccionario\n",
    "                    cls_instance = cls.__new__(cls)\n",
    "                    try:\n",
    "                        cls.__init__(cls_instance)\n",
    "                    except:\n",
    "                        pass\n",
    "            \n",
    "            def __setitem__(self, key, value):\n",
    "                self.validate_item(key, value)\n",
    "                return dict.__setitem__(self, key, value)\n",
    "            \n",
    "            @classmethod\n",
    "            def validate(cls, dictionary):\n",
    "                try:\n",
    "                    for key, value in dictionary.items():\n",
    "                        if not isinstance(key, key_type) or not isinstance(value, value_type):\n",
    "                            return False\n",
    "                    return True\n",
    "                except:\n",
    "                    return False\n",
    "        \n",
    "        # Copiamos los métodos y atributos de la clase original\n",
    "        for attr_name, attr_value in cls.__dict__.items():\n",
    "            if not attr_name.startswith('__'):\n",
    "                setattr(DictWrapper, attr_name, attr_value)\n",
    "        \n",
    "        # Establecemos los tipos en la clase resultante\n",
    "        DictWrapper.key_type = key_type\n",
    "        DictWrapper.value_type = value_type\n",
    "        \n",
    "        # Actualizamos el nombre y documentación para que parezca la clase original\n",
    "        DictWrapper.__name__ = cls.__name__\n",
    "        DictWrapper.__qualname__ = cls.__qualname__\n",
    "        DictWrapper.__doc__ = cls.__doc__\n",
    "        \n",
    "        return DictWrapper\n",
    "    \n",
    "    return decorator"
   ]
  },
  {
   "cell_type": "code",
   "execution_count": 91,
   "metadata": {},
   "outputs": [],
   "source": [
    "@dict_tipado(int, Cliente)\n",
    "class ListaClientesAnotacion(dict):\n",
    "    \"\"\"Diccionario que solo acepta claves enteras y valores de tipo Cliente\"\"\"\n",
    "    pass"
   ]
  },
  {
   "cell_type": "code",
   "execution_count": 92,
   "metadata": {},
   "outputs": [
    {
     "name": "stdout",
     "output_type": "stream",
     "text": [
      "{1: Cliente(Nombre: Martín, Apellidos: Molina, DNI: 1234568A), 2: Cliente(Nombre: Juan, Apellidos: Magán, DNI: 1234568B)}\n"
     ]
    }
   ],
   "source": [
    "ldc = ListaClientesAnotacion({1: Cliente('Martín', 'Molina', '1234568A')})\n",
    "ldc[2] = Cliente('Juan', 'Magán', '1234568B')\n",
    "print(lc) "
   ]
  },
  {
   "cell_type": "code",
   "execution_count": null,
   "metadata": {},
   "outputs": [],
   "source": []
  }
 ],
 "metadata": {
  "kernelspec": {
   "display_name": "venv",
   "language": "python",
   "name": "python3"
  },
  "language_info": {
   "codemirror_mode": {
    "name": "ipython",
    "version": 3
   },
   "file_extension": ".py",
   "mimetype": "text/x-python",
   "name": "python",
   "nbconvert_exporter": "python",
   "pygments_lexer": "ipython3",
   "version": "3.13.2"
  }
 },
 "nbformat": 4,
 "nbformat_minor": 2
}
