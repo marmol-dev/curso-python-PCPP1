{
 "cells": [
  {
   "cell_type": "code",
   "execution_count": 1,
   "metadata": {},
   "outputs": [
    {
     "name": "stdout",
     "output_type": "stream",
     "text": [
      "En español\n"
     ]
    },
    {
     "data": {
      "text/plain": [
       "3"
      ]
     },
     "execution_count": 1,
     "metadata": {},
     "output_type": "execute_result"
    }
   ],
   "source": [
    "def decorador(idioma):\n",
    "    def external_wraper(funcion):\n",
    "        def internal_wraper(*args, **kwargs):\n",
    "            if idioma == \"es\":\n",
    "                print(\"En español\")\n",
    "            elif idioma == 'en':\n",
    "                print(\"En inglés\")\n",
    "            return funcion(*args, **kwargs)\n",
    "        return internal_wraper\n",
    "    return external_wraper\n",
    "\n",
    "@decorador('es')\n",
    "def calcular_suma(sum1, sum2):\n",
    "    return sum1 + sum2\n",
    "\n",
    "\n",
    "calcular_suma(1,2)"
   ]
  },
  {
   "cell_type": "code",
   "execution_count": null,
   "metadata": {},
   "outputs": [],
   "source": []
  }
 ],
 "metadata": {
  "kernelspec": {
   "display_name": "venv",
   "language": "python",
   "name": "python3"
  },
  "language_info": {
   "codemirror_mode": {
    "name": "ipython",
    "version": 3
   },
   "file_extension": ".py",
   "mimetype": "text/x-python",
   "name": "python",
   "nbconvert_exporter": "python",
   "pygments_lexer": "ipython3",
   "version": "3.13.2"
  }
 },
 "nbformat": 4,
 "nbformat_minor": 2
}
