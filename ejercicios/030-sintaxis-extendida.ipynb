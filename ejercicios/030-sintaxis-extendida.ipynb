{
 "cells": [
  {
   "cell_type": "code",
   "execution_count": null,
   "metadata": {},
   "outputs": [
    {
     "name": "stdout",
     "output_type": "stream",
     "text": [
      "With optional arg\n",
      "With optional arg\n"
     ]
    }
   ],
   "source": [
    "def calculate():\n",
    "    print(\"Without args\")\n",
    "\n",
    "def calculate(arg):\n",
    "    print(\"With arg\")\n",
    "\n",
    "def calculate(optional_arg = 10):\n",
    "    print(\"With optional arg\")\n",
    "\n",
    "calculate() # With optional arg\n",
    "calculate(20) #  With optional arg -> ❌ \n"
   ]
  },
  {
   "cell_type": "code",
   "execution_count": null,
   "metadata": {},
   "outputs": [],
   "source": []
  },
  {
   "cell_type": "code",
   "execution_count": null,
   "metadata": {},
   "outputs": [
    {
     "name": "stdout",
     "output_type": "stream",
     "text": [
      "10\n",
      "20\n",
      "30\n",
      "---\n",
      "10\n",
      "20\n",
      "30\n",
      "---\n"
     ]
    },
    {
     "ename": "TypeError",
     "evalue": "funcion() got some positional-only arguments passed as keyword arguments: 'pos1'",
     "output_type": "error",
     "traceback": [
      "\u001b[31m---------------------------------------------------------------------------\u001b[39m",
      "\u001b[31mTypeError\u001b[39m                                 Traceback (most recent call last)",
      "\u001b[36mCell\u001b[39m\u001b[36m \u001b[39m\u001b[32mIn[9]\u001b[39m\u001b[32m, line 10\u001b[39m\n\u001b[32m      8\u001b[39m funcion(\u001b[32m10\u001b[39m, \u001b[32m20\u001b[39m, key1=\u001b[32m30\u001b[39m)\n\u001b[32m      9\u001b[39m \u001b[38;5;28mprint\u001b[39m(\u001b[33m\"\u001b[39m\u001b[33m---\u001b[39m\u001b[33m\"\u001b[39m)\n\u001b[32m---> \u001b[39m\u001b[32m10\u001b[39m \u001b[43mfuncion\u001b[49m\u001b[43m(\u001b[49m\u001b[43mpos1\u001b[49m\u001b[43m=\u001b[49m\u001b[43m \u001b[49m\u001b[32;43m10\u001b[39;49m\u001b[43m,\u001b[49m\u001b[43m \u001b[49m\u001b[43mkeyOrPos1\u001b[49m\u001b[43m \u001b[49m\u001b[43m=\u001b[49m\u001b[43m \u001b[49m\u001b[32;43m20\u001b[39;49m\u001b[43m,\u001b[49m\u001b[43m \u001b[49m\u001b[43mkey1\u001b[49m\u001b[43m=\u001b[49m\u001b[32;43m30\u001b[39;49m\u001b[43m)\u001b[49m\n",
      "\u001b[31mTypeError\u001b[39m: funcion() got some positional-only arguments passed as keyword arguments: 'pos1'"
     ]
    }
   ],
   "source": [
    "def funcion(pos1, /, keyOrPos1, *, key1):\n",
    "    print(pos1)\n",
    "    print(keyOrPos1)\n",
    "    print(key1)\n",
    "\n",
    "funcion(10, keyOrPos1=20, key1=30)\n",
    "print(\"---\")\n",
    "funcion(10, 20, key1=30)\n",
    "print(\"---\")\n",
    "funcion(pos1= 10, keyOrPos1 = 20, key1=30)\n"
   ]
  },
  {
   "cell_type": "code",
   "execution_count": 10,
   "metadata": {},
   "outputs": [
    {
     "name": "stdout",
     "output_type": "stream",
     "text": [
      "1\n",
      "(2, 3, 4)\n"
     ]
    }
   ],
   "source": [
    "def funcion_args(arg1, *args):\n",
    "    print(arg1)\n",
    "    print(args)\n",
    "\n",
    "funcion_args(1,2,3,4)"
   ]
  },
  {
   "cell_type": "code",
   "execution_count": 12,
   "metadata": {},
   "outputs": [
    {
     "name": "stdout",
     "output_type": "stream",
     "text": [
      "1\n",
      "{'k1': 1, 'k2': 2}\n"
     ]
    }
   ],
   "source": [
    "def funcion_kwargs(arg1, **kwargs):\n",
    "    print(arg1)\n",
    "    print(kwargs)\n",
    "\n",
    "funcion_kwargs(1, k1=1, k2=2)\n"
   ]
  },
  {
   "cell_type": "code",
   "execution_count": 13,
   "metadata": {},
   "outputs": [
    {
     "name": "stdout",
     "output_type": "stream",
     "text": [
      "1\n",
      "(2, 3, 4)\n"
     ]
    }
   ],
   "source": [
    "args = (2,3,4)\n",
    "funcion_args(1, *args)"
   ]
  },
  {
   "cell_type": "code",
   "execution_count": 15,
   "metadata": {},
   "outputs": [
    {
     "name": "stdout",
     "output_type": "stream",
     "text": [
      "1\n",
      "{'k1': 1, 'k2': 2, 'k3': 3}\n"
     ]
    }
   ],
   "source": [
    "kwargs_renamed = {\n",
    "    \"k1\": 1,\n",
    "    \"k2\": 2,\n",
    "    \"k3\": 3\n",
    "}\n",
    "\n",
    "funcion_kwargs(1, **kwargs_renamed)"
   ]
  },
  {
   "cell_type": "code",
   "execution_count": 19,
   "metadata": {},
   "outputs": [],
   "source": [
    "def mixed(*args, x, **kwargs):\n",
    "    print(args)\n",
    "    print(x)\n",
    "    print(kwargs)"
   ]
  },
  {
   "cell_type": "code",
   "execution_count": 20,
   "metadata": {},
   "outputs": [
    {
     "name": "stdout",
     "output_type": "stream",
     "text": [
      "(1, 2, 3)\n",
      "hola mundo\n",
      "{'k1': 1, 'k2': 2, 'k3': 3}\n"
     ]
    }
   ],
   "source": [
    "mixed(1,2, 3, x='hola mundo', k1=1, k2=2, k3=3)"
   ]
  },
  {
   "cell_type": "code",
   "execution_count": 18,
   "metadata": {},
   "outputs": [
    {
     "ename": "SyntaxError",
     "evalue": "arguments cannot follow var-keyword argument (2246290844.py, line 1)",
     "output_type": "error",
     "traceback": [
      "  \u001b[36mCell\u001b[39m\u001b[36m \u001b[39m\u001b[32mIn[18]\u001b[39m\u001b[32m, line 1\u001b[39m\n\u001b[31m    \u001b[39m\u001b[31mdef mixed_failure(**kwargs, *args):\u001b[39m\n                                ^\n\u001b[31mSyntaxError\u001b[39m\u001b[31m:\u001b[39m arguments cannot follow var-keyword argument\n"
     ]
    }
   ],
   "source": [
    "def mixed_failure(**kwargs, *args):\n",
    "    print(args)\n",
    "    print(kwargs)"
   ]
  },
  {
   "cell_type": "code",
   "execution_count": null,
   "metadata": {},
   "outputs": [],
   "source": []
  }
 ],
 "metadata": {
  "kernelspec": {
   "display_name": "venv",
   "language": "python",
   "name": "python3"
  },
  "language_info": {
   "codemirror_mode": {
    "name": "ipython",
    "version": 3
   },
   "file_extension": ".py",
   "mimetype": "text/x-python",
   "name": "python",
   "nbconvert_exporter": "python",
   "pygments_lexer": "ipython3",
   "version": "3.13.2"
  }
 },
 "nbformat": 4,
 "nbformat_minor": 2
}
