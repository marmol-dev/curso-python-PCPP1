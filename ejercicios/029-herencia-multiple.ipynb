{
 "cells": [
  {
   "cell_type": "code",
   "execution_count": 1,
   "metadata": {},
   "outputs": [],
   "source": [
    "# crear una función similar a del ejercicio 22 de composición\n",
    "# pero con funciones"
   ]
  },
  {
   "cell_type": "markdown",
   "metadata": {},
   "source": [
    "```mermaid\n",
    "graph TD\n",
    "    D[\"Clase D: Before D -> super().__init__()\"] --> B[\"Clase B: Before B -> super().__init__()\"]\n",
    "    B --> C[\"Clase C: Before C -> super().__init__()\"]\n",
    "    C --> A[\"Clase A: A From D\"]\n",
    "    A --> C_after[\"Clase C: After C\"]\n",
    "    C_after --> B_after[\"Clase B: After B\"]\n",
    "    B_after --> D_after[\"Clase D: After D\"]\n",
    "\n",
    "    subgraph Asignaciones de self.prop\n",
    "        A -->|self.prop = 'A'| C\n",
    "        C -->|self.prop = 'C'| B\n",
    "        B -->|self.prop = 'B'| D\n",
    "    end\n",
    "```"
   ]
  },
  {
   "cell_type": "code",
   "execution_count": null,
   "metadata": {},
   "outputs": [],
   "source": [
    "class A:\n",
    "    def __init__(self, msg = 'From A'):\n",
    "        print(f\"A {msg}\")\n",
    "\n",
    "class B(A):\n",
    "    def __init__(self, msg = 'From B'):\n",
    "        print(f\"B {msg}\")\n",
    "        super().__init__(msg)\n",
    "\n",
    "class C(A):\n",
    "    def __init__(self, msg = 'From C'):\n",
    "        print(f\"C {msg}\")\n",
    "        super().__init__(msg)\n",
    "\n",
    "class D(B,C):\n",
    "    def __init__(self, msg = 'From D'):\n",
    "        print(f\"D {msg}\")\n",
    "        super().__init__(msg)\n",
    "\n",
    "d = D()\n"
   ]
  },
  {
   "cell_type": "code",
   "execution_count": 39,
   "metadata": {},
   "outputs": [
    {
     "name": "stdout",
     "output_type": "stream",
     "text": [
      "Before D From D\n",
      "Before B From D\n",
      "Before C From D\n",
      "A From D\n",
      "After C From D\n",
      "After B From D\n",
      "After D From D\n"
     ]
    }
   ],
   "source": [
    "class A:\n",
    "    def __init__(self, msg = 'From A'):\n",
    "        print(f\"A {msg}\")\n",
    "        self.prop = 'A'\n",
    "\n",
    "class B(A):\n",
    "    def __init__(self, msg = 'From B'):\n",
    "        print(f\"Before B {msg}\")\n",
    "        super().__init__(msg)\n",
    "        print(f\"After B {msg}\")\n",
    "        self.prop = 'B'\n",
    "\n",
    "\n",
    "class C(A):\n",
    "    def __init__(self, msg = 'From C'):\n",
    "        print(f\"Before C {msg}\")\n",
    "        super().__init__(msg)\n",
    "        print(f\"After C {msg}\")\n",
    "        self.prop = 'C'\n",
    "\n",
    "\n",
    "class D(B,C):\n",
    "    def __init__(self, msg = 'From D'):\n",
    "        print(f\"Before D {msg}\")\n",
    "        super().__init__(msg)\n",
    "        print(f\"After D {msg}\")\n",
    "        #self.prop = 'D'\n",
    "\n",
    "\n",
    "d = D()\n"
   ]
  },
  {
   "cell_type": "code",
   "execution_count": 37,
   "metadata": {},
   "outputs": [
    {
     "data": {
      "text/plain": [
       "'B'"
      ]
     },
     "execution_count": 37,
     "metadata": {},
     "output_type": "execute_result"
    }
   ],
   "source": [
    "d.prop"
   ]
  },
  {
   "cell_type": "code",
   "execution_count": null,
   "metadata": {},
   "outputs": [],
   "source": []
  }
 ],
 "metadata": {
  "kernelspec": {
   "display_name": "venv",
   "language": "python",
   "name": "python3"
  },
  "language_info": {
   "codemirror_mode": {
    "name": "ipython",
    "version": 3
   },
   "file_extension": ".py",
   "mimetype": "text/x-python",
   "name": "python",
   "nbconvert_exporter": "python",
   "pygments_lexer": "ipython3",
   "version": "3.13.2"
  }
 },
 "nbformat": 4,
 "nbformat_minor": 2
}
