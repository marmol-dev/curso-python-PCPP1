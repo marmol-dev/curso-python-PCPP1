{
 "cells": [
  {
   "cell_type": "code",
   "execution_count": 1,
   "metadata": {},
   "outputs": [],
   "source": [
    "# crear una función similar a del ejercicio 22 de composición\n",
    "# pero con funciones"
   ]
  },
  {
   "cell_type": "code",
   "execution_count": 1,
   "metadata": {},
   "outputs": [],
   "source": [
    "class Vehiculo:\n",
    "    def arrancar(self):\n",
    "        print('Arrancando')\n",
    "\n",
    "class VehiculoAereo(Vehiculo):\n",
    "    def volar(self):\n",
    "        print('Estoy volando')\n",
    "\n",
    "class VehiculoTerrestre(Vehiculo):\n",
    "    def circular(self):\n",
    "        print('Estoy circulando')\n",
    "\n",
    "class Batmovil(VehiculoAereo, VehiculoTerrestre):\n",
    "    pass\n",
    "\n",
    "\n",
    "batmovil = Batmovil()"
   ]
  },
  {
   "cell_type": "code",
   "execution_count": 2,
   "metadata": {},
   "outputs": [],
   "source": [
    "batmovil = Batmovil()\n"
   ]
  },
  {
   "cell_type": "code",
   "execution_count": 3,
   "metadata": {},
   "outputs": [
    {
     "name": "stdout",
     "output_type": "stream",
     "text": [
      "Arrancando\n",
      "Estoy circulando\n",
      "Estoy volando\n"
     ]
    }
   ],
   "source": [
    "batmovil.arrancar()\n",
    "batmovil.circular()\n",
    "batmovil.volar()"
   ]
  },
  {
   "cell_type": "code",
   "execution_count": null,
   "metadata": {},
   "outputs": [],
   "source": []
  }
 ],
 "metadata": {
  "kernelspec": {
   "display_name": "venv",
   "language": "python",
   "name": "python3"
  },
  "language_info": {
   "codemirror_mode": {
    "name": "ipython",
    "version": 3
   },
   "file_extension": ".py",
   "mimetype": "text/x-python",
   "name": "python",
   "nbconvert_exporter": "python",
   "pygments_lexer": "ipython3",
   "version": "3.13.2"
  }
 },
 "nbformat": 4,
 "nbformat_minor": 2
}
