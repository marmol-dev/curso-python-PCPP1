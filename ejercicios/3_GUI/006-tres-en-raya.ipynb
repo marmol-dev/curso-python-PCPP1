{
 "cells": [
  {
   "cell_type": "code",
   "execution_count": 2,
   "metadata": {},
   "outputs": [
    {
     "name": "stderr",
     "output_type": "stream",
     "text": [
      "2025-03-26 16:57:38.624 Python[14971:93686] Warning: Window move completed without beginning\n"
     ]
    }
   ],
   "source": [
    "import tkinter as tk\n",
    "\n",
    "botones = []\n",
    "fichas = ['O','X']\n",
    "turno = 0\n",
    "\n",
    "def seleccionar_celda(boton_pulsado):\n",
    "    global turno\n",
    "    turno+=1\n",
    "    boton_pulsado['text']=fichas[turno%2]\n",
    "\n",
    "def reiniciar_tablero():\n",
    "    for boton in botones:\n",
    "        boton['text']=''\n",
    "\n",
    "tablero = tk.Tk()\n",
    "tablero.title('3 EN RAYA')\n",
    "tablero.geometry('450x550')\n",
    "\n",
    "for fila in range(3):\n",
    "    for columna in range(3):\n",
    "        boton = tk.Button(\n",
    "            tablero, \n",
    "            text='', \n",
    "            width=20, \n",
    "            height=10)\n",
    "        boton['command']=lambda boton_pulsado=boton : seleccionar_celda(boton_pulsado)\n",
    "        boton.grid(row=fila, column=columna)\n",
    "        botones.append(boton)\n",
    "\n",
    "boton_reset = tk.Button(tablero, \n",
    "                        text='Reiniciar partida', \n",
    "                        width=63, height=3,\n",
    "                        command=reiniciar_tablero)\n",
    "boton_reset.grid(row=3, column=0, columnspan=3)\n",
    "\n",
    "\n",
    "\n",
    "\n",
    "tablero.mainloop()\n"
   ]
  },
  {
   "cell_type": "code",
   "execution_count": null,
   "metadata": {},
   "outputs": [],
   "source": []
  }
 ],
 "metadata": {
  "kernelspec": {
   "display_name": "Python 3",
   "language": "python",
   "name": "python3"
  },
  "language_info": {
   "codemirror_mode": {
    "name": "ipython",
    "version": 3
   },
   "file_extension": ".py",
   "mimetype": "text/x-python",
   "name": "python",
   "nbconvert_exporter": "python",
   "pygments_lexer": "ipython3",
   "version": "3.9.6"
  }
 },
 "nbformat": 4,
 "nbformat_minor": 2
}
