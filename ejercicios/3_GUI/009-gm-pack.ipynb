{
 "cells": [
  {
   "cell_type": "code",
   "execution_count": 1,
   "metadata": {},
   "outputs": [
    {
     "name": "stderr",
     "output_type": "stream",
     "text": [
      "2025-03-26 17:13:59.805 Python[16412:113690] +[IMKClient subclass]: chose IMKClient_Modern\n",
      "2025-03-26 17:13:59.805 Python[16412:113690] +[IMKInputSession subclass]: chose IMKInputSession_Modern\n"
     ]
    }
   ],
   "source": [
    "import tkinter as tk\n",
    "\n",
    "\n",
    "main_window = tk.Tk()\n",
    "\n",
    "main_window.title('Ejemplo grid')\n",
    "main_window.geometry('800x600')\n",
    "\n",
    "boton_1 = tk.Button(main_window, text='Botón 1')\n",
    "boton_2 = tk.Button(main_window, text='Botón 2')\n",
    "boton_3 = tk.Button(main_window, text='Botón 3')\n",
    "boton_4 = tk.Button(main_window, text='Botón 4')\n",
    "boton_5 = tk.Button(main_window, text='Botón 5')\n",
    "\n",
    "boton_1.pack()\n",
    "boton_2.pack()\n",
    "boton_3.pack()\n",
    "boton_4.pack(side=tk.BOTTOM)\n",
    "\n",
    "main_window.mainloop()\n"
   ]
  },
  {
   "cell_type": "code",
   "execution_count": null,
   "metadata": {},
   "outputs": [],
   "source": []
  }
 ],
 "metadata": {
  "kernelspec": {
   "display_name": "Python 3",
   "language": "python",
   "name": "python3"
  },
  "language_info": {
   "codemirror_mode": {
    "name": "ipython",
    "version": 3
   },
   "file_extension": ".py",
   "mimetype": "text/x-python",
   "name": "python",
   "nbconvert_exporter": "python",
   "pygments_lexer": "ipython3",
   "version": "3.9.6"
  }
 },
 "nbformat": 4,
 "nbformat_minor": 2
}
