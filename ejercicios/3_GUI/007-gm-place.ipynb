{
 "cells": [
  {
   "cell_type": "code",
   "execution_count": 2,
   "metadata": {},
   "outputs": [],
   "source": [
    "import tkinter as tk\n",
    "\n",
    "\n",
    "main_window = tk.Tk()\n",
    "\n",
    "main_window.title('Ejemplo grid')\n",
    "main_window.geometry('800x600')\n",
    "\n",
    "boton_1 = tk.Button(main_window, text='Botón 1')\n",
    "boton_2 = tk.Button(main_window, text='Botón 2')\n",
    "boton_3 = tk.Button(main_window, text='Botón 3')\n",
    "boton_4 = tk.Button(main_window, text='Botón 4')\n",
    "boton_5 = tk.Button(main_window, text='Botón 5')\n",
    "\n",
    "boton_1.place(x=100, y=100)\n",
    "\n",
    "boton_2.place(x=100, y=200)\n",
    "boton_3.place(x=100, y=300)\n",
    "boton_4.place(x=100, y=400)\n",
    "\n",
    "main_window.mainloop()\n"
   ]
  },
  {
   "cell_type": "code",
   "execution_count": null,
   "metadata": {},
   "outputs": [],
   "source": []
  }
 ],
 "metadata": {
  "kernelspec": {
   "display_name": "Python 3",
   "language": "python",
   "name": "python3"
  },
  "language_info": {
   "codemirror_mode": {
    "name": "ipython",
    "version": 3
   },
   "file_extension": ".py",
   "mimetype": "text/x-python",
   "name": "python",
   "nbconvert_exporter": "python",
   "pygments_lexer": "ipython3",
   "version": "3.9.6"
  }
 },
 "nbformat": 4,
 "nbformat_minor": 2
}
