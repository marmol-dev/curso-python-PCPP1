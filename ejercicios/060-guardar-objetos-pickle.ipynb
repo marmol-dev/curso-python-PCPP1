{
 "cells": [
  {
   "cell_type": "markdown",
   "metadata": {},
   "source": [
    "# Ejercicio 60"
   ]
  },
  {
   "cell_type": "markdown",
   "metadata": {},
   "source": [
    "Guardar objetos en disco en Python con el módulo Pickle."
   ]
  },
  {
   "cell_type": "code",
   "execution_count": 8,
   "metadata": {},
   "outputs": [
    {
     "name": "stdout",
     "output_type": "stream",
     "text": [
      "Llamando al constructor\n",
      "Titanic\n"
     ]
    }
   ],
   "source": [
    "import pickle\n",
    "\n",
    "class Pelicula:\n",
    "    def __init__(self, titulo: str, anho: int):\n",
    "        print(\"Llamando al constructor\")\n",
    "        self.__titulo = titulo\n",
    "        self.__anho = anho\n",
    "\n",
    "    def get_titulo(self):\n",
    "        return self.__titulo\n",
    "\n",
    "titanic = Pelicula('Titanic', 1997)\n",
    "with open('/tmp/python-pelicula.pickle', 'bw') as f:\n",
    "    pickle.dump(titanic, f)\n",
    "\n",
    "with open('/tmp/python-pelicula.pickle', 'br') as f:\n",
    "    titanic_pickle: Pelicula = pickle.load(f)\n",
    "    print(titanic_pickle.get_titulo())"
   ]
  },
  {
   "cell_type": "code",
   "execution_count": 9,
   "metadata": {},
   "outputs": [
    {
     "name": "stdout",
     "output_type": "stream",
     "text": [
      "Llamando al constructor\n"
     ]
    },
    {
     "ename": "AttributeError",
     "evalue": "Can't get local object 'Prueba.__init__.<locals>.<lambda>'",
     "output_type": "error",
     "traceback": [
      "\u001b[31m---------------------------------------------------------------------------\u001b[39m",
      "\u001b[31mAttributeError\u001b[39m                            Traceback (most recent call last)",
      "\u001b[36mCell\u001b[39m\u001b[36m \u001b[39m\u001b[32mIn[9]\u001b[39m\u001b[32m, line 9\u001b[39m\n\u001b[32m      7\u001b[39m prueba = Prueba()\n\u001b[32m      8\u001b[39m \u001b[38;5;28;01mwith\u001b[39;00m \u001b[38;5;28mopen\u001b[39m(\u001b[33m'\u001b[39m\u001b[33m/tmp/python-prueba.pickle\u001b[39m\u001b[33m'\u001b[39m, \u001b[33m'\u001b[39m\u001b[33mbw\u001b[39m\u001b[33m'\u001b[39m) \u001b[38;5;28;01mas\u001b[39;00m f:\n\u001b[32m----> \u001b[39m\u001b[32m9\u001b[39m     \u001b[43mpickle\u001b[49m\u001b[43m.\u001b[49m\u001b[43mdump\u001b[49m\u001b[43m(\u001b[49m\u001b[43mprueba\u001b[49m\u001b[43m,\u001b[49m\u001b[43m \u001b[49m\u001b[43mf\u001b[49m\u001b[43m)\u001b[49m\n",
      "\u001b[31mAttributeError\u001b[39m: Can't get local object 'Prueba.__init__.<locals>.<lambda>'"
     ]
    }
   ],
   "source": [
    "class Prueba:\n",
    "    def __init__(self):\n",
    "        print(\"Llamando al constructor\")\n",
    "        self.instance_method = lambda x: x*2\n",
    "\n",
    "\n",
    "prueba = Prueba()\n",
    "with open('/tmp/python-prueba.pickle', 'bw') as f:\n",
    "    pickle.dump(prueba, f)"
   ]
  },
  {
   "cell_type": "markdown",
   "metadata": {},
   "source": [
    "## Conclusiones\n",
    "\n",
    "- El módulo pickle solo permite guardar ciertos tipos de datos (lambda, funciones, clases, etc. no se pueden guardar).\n",
    "- La clase del objeto guardado debe estar definida en el momento de cargar el objeto.\n",
    "- No tiene porque ser la misma clase que la que se usó para guardar el objeto (puede estar modificada con más atributos o métodos)."
   ]
  },
  {
   "cell_type": "markdown",
   "metadata": {},
   "source": []
  }
 ],
 "metadata": {
  "kernelspec": {
   "display_name": "venv",
   "language": "python",
   "name": "python3"
  },
  "language_info": {
   "codemirror_mode": {
    "name": "ipython",
    "version": 3
   },
   "file_extension": ".py",
   "mimetype": "text/x-python",
   "name": "python",
   "nbconvert_exporter": "python",
   "pygments_lexer": "ipython3",
   "version": "3.13.2"
  }
 },
 "nbformat": 4,
 "nbformat_minor": 2
}
