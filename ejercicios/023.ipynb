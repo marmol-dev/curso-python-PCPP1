{
 "cells": [
  {
   "cell_type": "code",
   "execution_count": 1,
   "metadata": {},
   "outputs": [],
   "source": [
    "# crear una función similar a del ejercicio 22 de composición\n",
    "# pero con funciones"
   ]
  },
  {
   "cell_type": "code",
   "execution_count": null,
   "metadata": {},
   "outputs": [
    {
     "name": "stdout",
     "output_type": "stream",
     "text": [
      "Arrancando\n",
      "Estoy circulando\n",
      "Estoy volando\n"
     ]
    }
   ],
   "source": [
    "class Vehiculo:\n",
    "    def __init__(self, potencia: int = 0):\n",
    "        self._potencia = potencia\n",
    "\n",
    "    @property\n",
    "    def potencia(self):\n",
    "        return self._potencia\n",
    "\n",
    "    def arrancar(self):\n",
    "        print('Arrancando')\n",
    "\n",
    "class VehiculoAereo:\n",
    "    def volar(self):\n",
    "        print('Estoy volando')\n",
    "\n",
    "class VehiculoTerrestre:\n",
    "    def circular(self):\n",
    "        print('Estoy circulando')\n",
    "\n",
    "class Batmovil(Vehiculo):\n",
    "    volar = VehiculoAereo.volar\n",
    "    circular = VehiculoTerrestre.circular\n",
    "\n",
    "\n",
    "batmovil = Batmovil()"
   ]
  },
  {
   "cell_type": "code",
   "execution_count": 21,
   "metadata": {},
   "outputs": [
    {
     "data": {
      "text/plain": [
       "0"
      ]
     },
     "execution_count": 21,
     "metadata": {},
     "output_type": "execute_result"
    }
   ],
   "source": [
    "batmovil = Batmovil()\n",
    "batmovil.potencia"
   ]
  },
  {
   "cell_type": "code",
   "execution_count": 24,
   "metadata": {},
   "outputs": [
    {
     "name": "stdout",
     "output_type": "stream",
     "text": [
      "Arrancando\n",
      "Estoy circulando\n",
      "Estoy volando\n"
     ]
    }
   ],
   "source": [
    "batmovil.arrancar()\n",
    "batmovil.circular()\n",
    "batmovil.volar()"
   ]
  },
  {
   "cell_type": "code",
   "execution_count": null,
   "metadata": {},
   "outputs": [],
   "source": []
  }
 ],
 "metadata": {
  "kernelspec": {
   "display_name": "venv",
   "language": "python",
   "name": "python3"
  },
  "language_info": {
   "codemirror_mode": {
    "name": "ipython",
    "version": 3
   },
   "file_extension": ".py",
   "mimetype": "text/x-python",
   "name": "python",
   "nbconvert_exporter": "python",
   "pygments_lexer": "ipython3",
   "version": "3.13.2"
  }
 },
 "nbformat": 4,
 "nbformat_minor": 2
}
