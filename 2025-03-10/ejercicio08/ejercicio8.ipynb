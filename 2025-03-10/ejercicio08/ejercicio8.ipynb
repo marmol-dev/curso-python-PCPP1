{
 "cells": [
  {
   "cell_type": "code",
   "execution_count": null,
   "metadata": {},
   "outputs": [],
   "source": [
    "# La clase Tarea tiene dos atributos y un método\n",
    "# ejecutar() que imprime un mensaje.\n",
    "\n",
    "\n",
    "class Tarea:\n",
    "    def __init__(self, texto: str, completada: bool = False):\n",
    "        self.texto = texto\n",
    "        self.completada = completada\n",
    "\n",
    "    def ejecutar(self):\n",
    "        print(f'Ejecutando tarea {self.texto}')\n",
    "        self.completada = True\n",
    "\n",
    "# La función ejecutador recibe una tarea y la ejecuta\n",
    "# Confirmar que se recibe una Tarea\n",
    "# Confirmar que se puede ejecutar\n",
    "# Si la algo está mal, lanzar una exepción\n",
    "def ejecutador(tarea: Tarea) -> None:\n",
    "    # validaciones:\n",
    "    # recibe una tarea\n",
    "    if not isinstance(tarea, Tarea):\n",
    "        raise TypeError('Se esperaba un objeto de tipo Tarea')\n",
    "    \n",
    "    if not hasattr(tarea, 'ejecutar'):\n",
    "        raise AttributeError('Se esperaba un método \"ejecutar\" en la tarea')\n",
    "    \n",
    "    if not callable(tarea.ejecutar):\n",
    "        raise TypeError('Se esperaba que fuera callable')\n",
    "    \n",
    "    tarea.ejecutar()"
   ]
  },
  {
   "cell_type": "code",
   "execution_count": 4,
   "metadata": {},
   "outputs": [
    {
     "name": "stdout",
     "output_type": "stream",
     "text": [
      "Ejecutando tarea Hacer comida\n"
     ]
    }
   ],
   "source": [
    "hacer_comida = Tarea('Hacer comida')\n",
    "ejecutador(hacer_comida)"
   ]
  },
  {
   "cell_type": "code",
   "execution_count": 6,
   "metadata": {},
   "outputs": [
    {
     "ename": "TypeError",
     "evalue": "Se esperaba una tarea",
     "output_type": "error",
     "traceback": [
      "\u001b[31m---------------------------------------------------------------------------\u001b[39m",
      "\u001b[31mTypeError\u001b[39m                                 Traceback (most recent call last)",
      "\u001b[36mCell\u001b[39m\u001b[36m \u001b[39m\u001b[32mIn[6]\u001b[39m\u001b[32m, line 1\u001b[39m\n\u001b[32m----> \u001b[39m\u001b[32m1\u001b[39m \u001b[43mejecutador\u001b[49m\u001b[43m(\u001b[49m\u001b[33;43m\"\u001b[39;49m\u001b[33;43mHacer comida\u001b[39;49m\u001b[33;43m\"\u001b[39;49m\u001b[43m)\u001b[49m\n",
      "\u001b[36mCell\u001b[39m\u001b[36m \u001b[39m\u001b[32mIn[1]\u001b[39m\u001b[32m, line 22\u001b[39m, in \u001b[36mejecutador\u001b[39m\u001b[34m(tarea)\u001b[39m\n\u001b[32m     18\u001b[39m \u001b[38;5;28;01mdef\u001b[39;00m\u001b[38;5;250m \u001b[39m\u001b[34mejecutador\u001b[39m(tarea: Tarea) -> \u001b[38;5;28;01mNone\u001b[39;00m:\n\u001b[32m     19\u001b[39m     \u001b[38;5;66;03m# validaciones:\u001b[39;00m\n\u001b[32m     20\u001b[39m     \u001b[38;5;66;03m# recibe una tarea\u001b[39;00m\n\u001b[32m     21\u001b[39m     \u001b[38;5;28;01mif\u001b[39;00m \u001b[38;5;129;01mnot\u001b[39;00m \u001b[38;5;28misinstance\u001b[39m(tarea, Tarea):\n\u001b[32m---> \u001b[39m\u001b[32m22\u001b[39m         \u001b[38;5;28;01mraise\u001b[39;00m \u001b[38;5;167;01mTypeError\u001b[39;00m(\u001b[33m'\u001b[39m\u001b[33mSe esperaba una tarea\u001b[39m\u001b[33m'\u001b[39m)\n\u001b[32m     24\u001b[39m     \u001b[38;5;28;01mif\u001b[39;00m \u001b[38;5;129;01mnot\u001b[39;00m \u001b[38;5;28mhasattr\u001b[39m(tarea, \u001b[33m'\u001b[39m\u001b[33mejecutar\u001b[39m\u001b[33m'\u001b[39m):\n\u001b[32m     25\u001b[39m         \u001b[38;5;28;01mraise\u001b[39;00m \u001b[38;5;167;01mTypeError\u001b[39;00m(\u001b[33m'\u001b[39m\u001b[33mSe esperaba un método ejecutar en la tarea\u001b[39m\u001b[33m'\u001b[39m)\n",
      "\u001b[31mTypeError\u001b[39m: Se esperaba una tarea"
     ]
    }
   ],
   "source": [
    "ejecutador(\"Hacer comida\")"
   ]
  },
  {
   "cell_type": "code",
   "execution_count": 10,
   "metadata": {},
   "outputs": [
    {
     "ename": "TypeError",
     "evalue": "Se esperaba que fuera callable",
     "output_type": "error",
     "traceback": [
      "\u001b[31m---------------------------------------------------------------------------\u001b[39m",
      "\u001b[31mTypeError\u001b[39m                                 Traceback (most recent call last)",
      "\u001b[36mCell\u001b[39m\u001b[36m \u001b[39m\u001b[32mIn[10]\u001b[39m\u001b[32m, line 3\u001b[39m\n\u001b[32m      1\u001b[39m compra = Tarea(\u001b[33m'\u001b[39m\u001b[33mIr a la compra\u001b[39m\u001b[33m'\u001b[39m)\n\u001b[32m      2\u001b[39m compra.ejecutar = \u001b[33m'\u001b[39m\u001b[33mno funciona\u001b[39m\u001b[33m'\u001b[39m\n\u001b[32m----> \u001b[39m\u001b[32m3\u001b[39m \u001b[43mejecutador\u001b[49m\u001b[43m(\u001b[49m\u001b[43mcompra\u001b[49m\u001b[43m)\u001b[49m\n",
      "\u001b[36mCell\u001b[39m\u001b[36m \u001b[39m\u001b[32mIn[1]\u001b[39m\u001b[32m, line 28\u001b[39m, in \u001b[36mejecutador\u001b[39m\u001b[34m(tarea)\u001b[39m\n\u001b[32m     25\u001b[39m     \u001b[38;5;28;01mraise\u001b[39;00m \u001b[38;5;167;01mTypeError\u001b[39;00m(\u001b[33m'\u001b[39m\u001b[33mSe esperaba un método ejecutar en la tarea\u001b[39m\u001b[33m'\u001b[39m)\n\u001b[32m     27\u001b[39m \u001b[38;5;28;01mif\u001b[39;00m \u001b[38;5;129;01mnot\u001b[39;00m \u001b[38;5;28mcallable\u001b[39m(tarea.ejecutar):\n\u001b[32m---> \u001b[39m\u001b[32m28\u001b[39m     \u001b[38;5;28;01mraise\u001b[39;00m \u001b[38;5;167;01mTypeError\u001b[39;00m(\u001b[33m'\u001b[39m\u001b[33mSe esperaba que fuera callable\u001b[39m\u001b[33m'\u001b[39m)\n\u001b[32m     30\u001b[39m tarea.ejecutar()\n",
      "\u001b[31mTypeError\u001b[39m: Se esperaba que fuera callable"
     ]
    }
   ],
   "source": [
    "compra = Tarea('Ir a la compra')\n",
    "compra.ejecutar = 'no funciona'\n",
    "ejecutador(compra)"
   ]
  },
  {
   "cell_type": "code",
   "execution_count": 11,
   "metadata": {},
   "outputs": [
    {
     "name": "stdout",
     "output_type": "stream",
     "text": [
      "Ejecutando tarea Mi tarea\n",
      "Se esperaba un objeto de tipo Tarea para el argumento tarea\n"
     ]
    }
   ],
   "source": [
    "import inspect\n",
    "from functools import wraps\n",
    "\n",
    "def validar_tipado(func):\n",
    "    @wraps(func)\n",
    "    def wrapper(*args, **kwargs):\n",
    "        signature = inspect.signature(func)\n",
    "        bound_args = signature.bind(*args, **kwargs)\n",
    "        bound_args.apply_defaults()\n",
    "        for param in signature.parameters.values():\n",
    "            if param.annotation != param.empty:\n",
    "                arg_value = bound_args.arguments[param.name]\n",
    "                if not isinstance(arg_value, param.annotation):\n",
    "                    raise TypeError(f\"Se esperaba un objeto de tipo {param.annotation.__name__} para el argumento {param.name}\")\n",
    "        return func(*args, **kwargs)\n",
    "    return wrapper\n",
    "\n",
    "class Tarea:\n",
    "    def __init__(self, nombre: str):\n",
    "        self.nombre = nombre\n",
    "\n",
    "class Ejecutador:\n",
    "    @validar_tipado\n",
    "    def ejecutar(self, tarea: Tarea) -> None:\n",
    "        print(f\"Ejecutando tarea {tarea.nombre}\")\n",
    "\n",
    "# Ejemplo de uso\n",
    "tarea = Tarea(\"Mi tarea\")\n",
    "ejecutador = Ejecutador()\n",
    "ejecutador.ejecutar(tarea)  # Esto funciona correctamente\n",
    "\n",
    "otra_cosa = \"No es una tarea\"\n",
    "try:\n",
    "    ejecutador.ejecutar(otra_cosa)  # Esto lanza un TypeError\n",
    "except TypeError as e:\n",
    "    print(e)"
   ]
  },
  {
   "cell_type": "code",
   "execution_count": null,
   "metadata": {},
   "outputs": [],
   "source": []
  }
 ],
 "metadata": {
  "kernelspec": {
   "display_name": "venv",
   "language": "python",
   "name": "python3"
  },
  "language_info": {
   "codemirror_mode": {
    "name": "ipython",
    "version": 3
   },
   "file_extension": ".py",
   "mimetype": "text/x-python",
   "name": "python",
   "nbconvert_exporter": "python",
   "pygments_lexer": "ipython3",
   "version": "3.13.2"
  }
 },
 "nbformat": 4,
 "nbformat_minor": 2
}
