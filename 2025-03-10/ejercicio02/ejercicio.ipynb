{
 "cells": [
  {
   "cell_type": "code",
   "execution_count": 1,
   "metadata": {},
   "outputs": [],
   "source": [
    "from datetime import datetime\n",
    "\n",
    "class Cliente:\n",
    "\n",
    "    def __init__(self, nombre: str, apellidos: str, nivel_gasto: int):\n",
    "        self.nombre = nombre\n",
    "        self.apellidos = apellidos\n",
    "        self.nivel_gasto = nivel_gasto\n",
    "\n",
    "class ClienteVIP(Cliente):\n",
    "\n",
    "    def __init__(self, nombre, apellidos):\n",
    "        super().__init__(nombre, apellidos, 3)\n",
    "\n",
    "    def saludar(self, saludo: str = '¿Qué tal?'):\n",
    "        print(f'Hola! {saludo}')\n",
    "\n",
    "    def modificar(self):\n",
    "        self.saludar = 0\n",
    "\n"
   ]
  },
  {
   "cell_type": "code",
   "execution_count": 4,
   "metadata": {},
   "outputs": [
    {
     "name": "stdout",
     "output_type": "stream",
     "text": [
      "Hola! ¿Qué tal?\n",
      "Saludar no es válido\n"
     ]
    }
   ],
   "source": [
    "cliente_vip = ClienteVIP('Martín', 'Molina')\n",
    "\n",
    "if hasattr(cliente_vip, 'saludar') and callable(cliente_vip.saludar):\n",
    "    cliente_vip.saludar()\n",
    "\n",
    "cliente_vip.modificar()\n",
    "\n",
    "if hasattr(cliente_vip, 'saludar') and callable(cliente_vip.saludar):\n",
    "    cliente_vip.saludar()\n",
    "else:\n",
    "    print(\"Saludar no es válido\")"
   ]
  }
 ],
 "metadata": {
  "kernelspec": {
   "display_name": "venv",
   "language": "python",
   "name": "python3"
  },
  "language_info": {
   "codemirror_mode": {
    "name": "ipython",
    "version": 3
   },
   "file_extension": ".py",
   "mimetype": "text/x-python",
   "name": "python",
   "nbconvert_exporter": "python",
   "pygments_lexer": "ipython3",
   "version": "3.13.2"
  }
 },
 "nbformat": 4,
 "nbformat_minor": 2
}
