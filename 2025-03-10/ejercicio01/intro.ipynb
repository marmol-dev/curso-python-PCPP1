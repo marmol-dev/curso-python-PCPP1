{
 "cells": [
  {
   "cell_type": "code",
   "execution_count": null,
   "metadata": {},
   "outputs": [
    {
     "name": "stdout",
     "output_type": "stream",
     "text": [
      "Marca: HP\n",
      "Modelo: Pavillion\n",
      "Precio: 550.13\n"
     ]
    }
   ],
   "source": [
    "# Introducción a POO\n",
    "# todo extiende de \"object\" de forma implícita\n",
    "\n",
    "class Ordenador(object):\n",
    "    # este es un atributo de clase\n",
    "    de_clase = 'de clase'\n",
    "\n",
    "    def __init__(self, marca: str, modelo: str, precio: float):\n",
    "        self.marca = marca\n",
    "        self.modelo = modelo\n",
    "        self.precio = precio\n",
    "\n",
    "    def mostrar_informacion(self):\n",
    "        print(f'Marca: {self.marca}\\nModelo: {self.modelo}\\nPrecio: {self.precio}')\n",
    "        \n",
    "\n",
    "\n",
    "mi_ordenador = Ordenador('HP', 'Pavillion', 550.13)\n",
    "mi_ordenador.mostrar_informacion()\n",
    "\n",
    "\n"
   ]
  },
  {
   "cell_type": "code",
   "execution_count": 25,
   "metadata": {},
   "outputs": [
    {
     "name": "stdout",
     "output_type": "stream",
     "text": [
      "hola mundo\n",
      "hola mundo\n",
      "hola mundo\n",
      "hola mundo modificado 2\n"
     ]
    }
   ],
   "source": [
    "## Obtención de atributos de clase e instancia\n",
    "\n",
    "class ClassWithAttrs:\n",
    "    test = 'hola mundo'\n",
    "\n",
    "instance_with_attrs = ClassWithAttrs()\n",
    "\n",
    "print(ClassWithAttrs.test) # de clase\n",
    "print(instance_with_attrs.test) # de clase\n",
    "instance_with_attrs.test = 'hola mundo modificado'\n",
    "print(ClassWithAttrs.test) # de clase modificado\n",
    "ClassWithAttrs.test = 'hola mundo modificado 2'\n",
    "print(ClassWithAttrs.test ) # de clase modificado\n",
    "\n",
    "\n"
   ]
  },
  {
   "cell_type": "code",
   "execution_count": 26,
   "metadata": {},
   "outputs": [
    {
     "name": "stdout",
     "output_type": "stream",
     "text": [
      "hola mundo modificado\n",
      "True\n",
      "hola mundo modificado 3\n"
     ]
    }
   ],
   "source": [
    "print(getattr(instance_with_attrs, 'test'))\n",
    "setattr(instance_with_attrs, 'test', 'hola mundo modificado 3')\n",
    "print(hasattr(instance_with_attrs, 'test'))\n",
    "print(getattr(instance_with_attrs, 'test'))\n"
   ]
  },
  {
   "cell_type": "code",
   "execution_count": 27,
   "metadata": {},
   "outputs": [],
   "source": [
    "class ClassWithMethods:\n",
    "    attr = 100\n",
    "\n",
    "    def __init__(self):\n",
    "        self.attr = 101\n",
    "        \n",
    "    def my_method(self):\n",
    "        print(\"This is a method\")"
   ]
  },
  {
   "cell_type": "code",
   "execution_count": null,
   "metadata": {},
   "outputs": [
    {
     "name": "stdout",
     "output_type": "stream",
     "text": [
      "True\n",
      "True\n",
      "This is a method\n",
      "True\n",
      "False\n"
     ]
    }
   ],
   "source": [
    "instance_with_methods = ClassWithMethods()\n",
    "print(hasattr(instance_with_methods, 'my_method'))\n",
    "print(callable(instance_with_methods.my_method))\n",
    "instance_with_methods.my_method()\n",
    "print(hasattr(instance_with_methods, 'attr'))\n",
    "print(callable(instance_with_methods.attr))\n"
   ]
  },
  {
   "cell_type": "code",
   "execution_count": 31,
   "metadata": {},
   "outputs": [
    {
     "data": {
      "text/plain": [
       "mappingproxy({'__module__': '__main__',\n",
       "              '__firstlineno__': 1,\n",
       "              'attr': 100,\n",
       "              '__init__': <function __main__.ClassWithMethods.__init__(self)>,\n",
       "              'my_method': <function __main__.ClassWithMethods.my_method(self)>,\n",
       "              '__static_attributes__': ('attr',),\n",
       "              '__dict__': <attribute '__dict__' of 'ClassWithMethods' objects>,\n",
       "              '__weakref__': <attribute '__weakref__' of 'ClassWithMethods' objects>,\n",
       "              '__doc__': None})"
      ]
     },
     "execution_count": 31,
     "metadata": {},
     "output_type": "execute_result"
    }
   ],
   "source": [
    "ClassWithMethods.__dict__"
   ]
  },
  {
   "cell_type": "code",
   "execution_count": 32,
   "metadata": {},
   "outputs": [
    {
     "data": {
      "text/plain": [
       "{'attr': 101}"
      ]
     },
     "execution_count": 32,
     "metadata": {},
     "output_type": "execute_result"
    }
   ],
   "source": [
    "instance_with_methods.__dict__"
   ]
  },
  {
   "cell_type": "code",
   "execution_count": null,
   "metadata": {},
   "outputs": [],
   "source": []
  },
  {
   "cell_type": "code",
   "execution_count": null,
   "metadata": {},
   "outputs": [],
   "source": [
    "class OrdenadorPortatil(Ordenador):\n",
    "    def __init__(self, marca: str, modelo: str, precio: float, bateria: float = 100):\n",
    "        # ⚠️ NO hace falta llamar al constructor padre\n",
    "        super().__init__(marca, modelo, precio)\n",
    "        self.bateria = bateria\n",
    "\n",
    "    def cargar(self):\n",
    "        self.bateria = 100\n",
    "\n",
    "    def descargar(self, cantidad: float):\n",
    "        self.bateria -= cantidad\n",
    "\n",
    "\n",
    "class MacMini(Ordenador):\n",
    "    def __init__(self):\n",
    "        super().__init__('Apple', 'Mac Mini', 1000)\n",
    "\n",
    "ordenador_portatil = OrdenadorPortatil('Apple', 'Macbook Air', 1200)\n",
    "print(ordenador_portatil)\n",
    "\n",
    "\n",
    "mac_mini = MacMini()\n",
    "mac_mini.mostrar_informacion()\n",
    "\n"
   ]
  }
 ],
 "metadata": {
  "kernelspec": {
   "display_name": "venv",
   "language": "python",
   "name": "python3"
  },
  "language_info": {
   "codemirror_mode": {
    "name": "ipython",
    "version": 3
   },
   "file_extension": ".py",
   "mimetype": "text/x-python",
   "name": "python",
   "nbconvert_exporter": "python",
   "pygments_lexer": "ipython3",
   "version": "3.13.2"
  }
 },
 "nbformat": 4,
 "nbformat_minor": 2
}
